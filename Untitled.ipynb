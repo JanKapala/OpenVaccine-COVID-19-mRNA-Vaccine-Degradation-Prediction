{
 "cells": [
  {
   "cell_type": "code",
   "execution_count": 1,
   "metadata": {},
   "outputs": [],
   "source": [
    "import networkx as nx\n",
    "import numpy as np"
   ]
  },
  {
   "cell_type": "code",
   "execution_count": 322,
   "metadata": {},
   "outputs": [],
   "source": [
    "G = nx.complete_graph(100)"
   ]
  },
  {
   "cell_type": "code",
   "execution_count": null,
   "metadata": {},
   "outputs": [],
   "source": []
  },
  {
   "cell_type": "code",
   "execution_count": 323,
   "metadata": {},
   "outputs": [],
   "source": [
    "adj_matrix = np.array(nx.adjacency_matrix(G).todense())"
   ]
  },
  {
   "cell_type": "code",
   "execution_count": 321,
   "metadata": {},
   "outputs": [
    {
     "data": {
      "text/plain": [
       "array([[0, 1, 1, 1, 1, 1, 1, 1, 1, 1],\n",
       "       [1, 0, 1, 1, 1, 1, 1, 1, 1, 1],\n",
       "       [1, 1, 0, 1, 1, 1, 1, 1, 1, 1],\n",
       "       [1, 1, 1, 0, 1, 1, 1, 1, 1, 1],\n",
       "       [1, 1, 1, 1, 0, 1, 1, 1, 1, 1],\n",
       "       [1, 1, 1, 1, 1, 0, 1, 1, 1, 1],\n",
       "       [1, 1, 1, 1, 1, 1, 0, 1, 1, 1],\n",
       "       [1, 1, 1, 1, 1, 1, 1, 0, 1, 1],\n",
       "       [1, 1, 1, 1, 1, 1, 1, 1, 0, 1],\n",
       "       [1, 1, 1, 1, 1, 1, 1, 1, 1, 0]])"
      ]
     },
     "execution_count": 321,
     "metadata": {},
     "output_type": "execute_result"
    }
   ],
   "source": [
    "adj_matrix"
   ]
  },
  {
   "cell_type": "code",
   "execution_count": 311,
   "metadata": {},
   "outputs": [],
   "source": [
    "from networkx.algorithms.shortest_paths.weighted import all_pairs_bellman_ford_path_length as bellman_ford\n",
    "\n",
    "def get_subgraphs(adjacency_matrix, neigh_size):\n",
    "    \n",
    "    # construct nx Graph\n",
    "    G = nx.from_numpy_matrix(adjacency_matrix)\n",
    "    \n",
    "    # extract neigh_size neighbours\n",
    "    bellmann_ford_result = dict(bellman_ford(G))\n",
    "    all_neighbours = np.array([sorted(list(distances.keys())[:neigh_size]) for node, distances in list(bellmann_ford_result.items())])\n",
    "    \n",
    "    # Get final dimension of each subgraph's matrix\n",
    "    N = adjacency_matrix.shape[0]\n",
    "    n = all_neighbours.shape[1]\n",
    "\n",
    "    # Choose rows by indices\n",
    "    x = adjacency_matrix[all_neighbours]\n",
    "\n",
    "    # Transpose to make possible choosing columns\n",
    "    x = np.transpose(x, (0, 2, 1))\n",
    "\n",
    "    # Choose columns by indices\n",
    "    x = x[:,all_neighbours]\n",
    "\n",
    "    # Choose diagonal\n",
    "    diagonal_indices = np.arange(0,N**2,N+1)\n",
    "    x = x.reshape(N**2,n,n)[diagonal_indices]\n",
    "\n",
    "    # Subgraphs' matrices need transposing\n",
    "    subgraphs = np.transpose(x, (0, 2, 1))\n",
    "\n",
    "    return subgraphs"
   ]
  },
  {
   "cell_type": "code",
   "execution_count": 325,
   "metadata": {},
   "outputs": [
    {
     "data": {
      "text/plain": [
       "array([[[0, 1, 1, ..., 1, 1, 1],\n",
       "        [1, 0, 1, ..., 1, 1, 1],\n",
       "        [1, 1, 0, ..., 1, 1, 1],\n",
       "        ...,\n",
       "        [1, 1, 1, ..., 0, 1, 1],\n",
       "        [1, 1, 1, ..., 1, 0, 1],\n",
       "        [1, 1, 1, ..., 1, 1, 0]],\n",
       "\n",
       "       [[0, 1, 1, ..., 1, 1, 1],\n",
       "        [1, 0, 1, ..., 1, 1, 1],\n",
       "        [1, 1, 0, ..., 1, 1, 1],\n",
       "        ...,\n",
       "        [1, 1, 1, ..., 0, 1, 1],\n",
       "        [1, 1, 1, ..., 1, 0, 1],\n",
       "        [1, 1, 1, ..., 1, 1, 0]],\n",
       "\n",
       "       [[0, 1, 1, ..., 1, 1, 1],\n",
       "        [1, 0, 1, ..., 1, 1, 1],\n",
       "        [1, 1, 0, ..., 1, 1, 1],\n",
       "        ...,\n",
       "        [1, 1, 1, ..., 0, 1, 1],\n",
       "        [1, 1, 1, ..., 1, 0, 1],\n",
       "        [1, 1, 1, ..., 1, 1, 0]],\n",
       "\n",
       "       ...,\n",
       "\n",
       "       [[0, 1, 1, ..., 1, 1, 1],\n",
       "        [1, 0, 1, ..., 1, 1, 1],\n",
       "        [1, 1, 0, ..., 1, 1, 1],\n",
       "        ...,\n",
       "        [1, 1, 1, ..., 0, 1, 1],\n",
       "        [1, 1, 1, ..., 1, 0, 1],\n",
       "        [1, 1, 1, ..., 1, 1, 0]],\n",
       "\n",
       "       [[0, 1, 1, ..., 1, 1, 1],\n",
       "        [1, 0, 1, ..., 1, 1, 1],\n",
       "        [1, 1, 0, ..., 1, 1, 1],\n",
       "        ...,\n",
       "        [1, 1, 1, ..., 0, 1, 1],\n",
       "        [1, 1, 1, ..., 1, 0, 1],\n",
       "        [1, 1, 1, ..., 1, 1, 0]],\n",
       "\n",
       "       [[0, 1, 1, ..., 1, 1, 1],\n",
       "        [1, 0, 1, ..., 1, 1, 1],\n",
       "        [1, 1, 0, ..., 1, 1, 1],\n",
       "        ...,\n",
       "        [1, 1, 1, ..., 0, 1, 1],\n",
       "        [1, 1, 1, ..., 1, 0, 1],\n",
       "        [1, 1, 1, ..., 1, 1, 0]]])"
      ]
     },
     "execution_count": 325,
     "metadata": {},
     "output_type": "execute_result"
    }
   ],
   "source": [
    "get_subgraphs(adj_matrix, 50)"
   ]
  },
  {
   "cell_type": "code",
   "execution_count": null,
   "metadata": {},
   "outputs": [],
   "source": []
  }
 ],
 "metadata": {
  "kernelspec": {
   "display_name": "Python 3",
   "language": "python",
   "name": "python3"
  },
  "language_info": {
   "codemirror_mode": {
    "name": "ipython",
    "version": 3
   },
   "file_extension": ".py",
   "mimetype": "text/x-python",
   "name": "python",
   "nbconvert_exporter": "python",
   "pygments_lexer": "ipython3",
   "version": "3.7.9"
  }
 },
 "nbformat": 4,
 "nbformat_minor": 4
}
