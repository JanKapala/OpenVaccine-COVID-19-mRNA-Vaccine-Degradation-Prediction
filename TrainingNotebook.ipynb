{
 "cells": [
  {
   "cell_type": "markdown",
   "metadata": {},
   "source": [
    "# OpenVaccine: COVID-19 mRNA Vaccine Degradation Prediction"
   ]
  },
  {
   "cell_type": "markdown",
   "metadata": {},
   "source": [
    "[kaggle competition site](https://www.kaggle.com/c/stanford-covid-vaccine) "
   ]
  },
  {
   "cell_type": "markdown",
   "metadata": {},
   "source": [
    "Dataset description:\n",
    "- train set:                    2400 examples of length=107 and scoring_length=68\n",
    "- public test set:              629  examples of length=107 and scoring_length=68\n",
    "- private test set:             3005 examples of length=130 and scoring_length=91"
   ]
  },
  {
   "cell_type": "markdown",
   "metadata": {},
   "source": [
    "### TODO:\n",
    "- [X] no testing model, one model with different testing and training outputs\n",
    "- [ ] augmentation\n",
    "- [X] GCN\n",
    "- [X] sequence fragmentation and similarieties finding"
   ]
  },
  {
   "cell_type": "markdown",
   "metadata": {
    "colab_type": "text",
    "id": "lg-H7W3tbuL_"
   },
   "source": [
    "## Import section"
   ]
  },
  {
   "cell_type": "code",
   "execution_count": 15,
   "metadata": {
    "colab": {
     "base_uri": "https://localhost:8080/",
     "height": 71
    },
    "colab_type": "code",
    "id": "9wt4tcMcCbG-",
    "outputId": "597fa52a-cb7c-45ac-9bcc-7e372d06311a"
   },
   "outputs": [
    {
     "name": "stdout",
     "output_type": "stream",
     "text": [
      "CPU times: user 27.6 ms, sys: 3.88 ms, total: 31.5 ms\n",
      "Wall time: 109 ms\n"
     ]
    }
   ],
   "source": [
    "%%time\n",
    "import tensorflow as tf\n",
    "from tensorflow.keras import Model\n",
    "from tensorflow.keras.layers import LSTM, Dense, Input, TimeDistributed, Concatenate, Lambda, Bidirectional, Dropout, RNN\n",
    "from tensorflow.keras.regularizers import l2\n",
    "from tensorflow.keras.optimizers import Adam, SGD\n",
    "\n",
    "import spektral\n",
    "from spektral.layers import GraphConv, GraphAttention, GlobalAttentionPool\n",
    "\n",
    "import seaborn as sns\n",
    "import numpy as np\n",
    "import pandas as pd\n",
    "\n",
    "from data_preparation import *\n",
    "from visualization import *\n",
    "from custom_layers.subgraphing import Subgraphing\n",
    "from custom_layers.custom_lstm_cell import CustomLSTMCell\n",
    "from custom_layers.graph_lstm import GraphLSTM, GraphLSTMCell\n",
    "from custom_layers.graph_reduce_cell import GraphReduceCell\n",
    "from submissions.submit import *\n",
    "\n",
    "import time\n",
    "from datetime import datetime\n",
    "\n",
    "import inspect\n",
    "import json\n",
    "import kerastuner as kt"
   ]
  },
  {
   "cell_type": "code",
   "execution_count": 2,
   "metadata": {},
   "outputs": [],
   "source": [
    "%load_ext tensorboard"
   ]
  },
  {
   "cell_type": "markdown",
   "metadata": {
    "colab_type": "text",
    "id": "Of4HAqm9byN7"
   },
   "source": [
    "# Data Loading"
   ]
  },
  {
   "cell_type": "code",
   "execution_count": 3,
   "metadata": {},
   "outputs": [],
   "source": [
    "# Dataset constants\n",
    "STACKED_FEATURES_SIZE = 14\n",
    "EDGES_FEATURES_MATRIX_DEPTH = 3\n",
    "NEIGHBOURHOOD_SIZE = 30"
   ]
  },
  {
   "cell_type": "code",
   "execution_count": 4,
   "metadata": {},
   "outputs": [
    {
     "name": "stdout",
     "output_type": "stream",
     "text": [
      "CPU times: user 2.5 s, sys: 707 ms, total: 3.2 s\n",
      "Wall time: 3.22 s\n"
     ]
    }
   ],
   "source": [
    "%time raw_train_valid_ds, raw_public_test_ds, raw_private_test_ds = get_raw_datasets()"
   ]
  },
  {
   "cell_type": "code",
   "execution_count": 5,
   "metadata": {},
   "outputs": [
    {
     "name": "stdout",
     "output_type": "stream",
     "text": [
      "CPU times: user 416 ms, sys: 194 ms, total: 610 ms\n",
      "Wall time: 649 ms\n"
     ]
    }
   ],
   "source": [
    "# %time subgraphed_train_valid_ds, subgraphed_public_test_ds, subgraphed_private_test_ds = load_subgraphed_datasets(neighbourhood_size=NEIGHBOURHOOD_SIZE) \n",
    "%time subgraphed_train_valid_ds, subgraphed_public_test_ds, subgraphed_private_test_ds = load_base_datasets()"
   ]
  },
  {
   "cell_type": "code",
   "execution_count": 6,
   "metadata": {},
   "outputs": [
    {
     "name": "stdout",
     "output_type": "stream",
     "text": [
      "FEATURES:\n"
     ]
    },
    {
     "data": {
      "text/html": [
       "<div>\n",
       "<style scoped>\n",
       "    .dataframe tbody tr th:only-of-type {\n",
       "        vertical-align: middle;\n",
       "    }\n",
       "\n",
       "    .dataframe tbody tr th {\n",
       "        vertical-align: top;\n",
       "    }\n",
       "\n",
       "    .dataframe thead th {\n",
       "        text-align: right;\n",
       "    }\n",
       "</style>\n",
       "<table border=\"1\" class=\"dataframe\">\n",
       "  <thead>\n",
       "    <tr style=\"text-align: right;\">\n",
       "      <th></th>\n",
       "      <th>feature_name</th>\n",
       "      <th>tensor_shape</th>\n",
       "    </tr>\n",
       "  </thead>\n",
       "  <tbody>\n",
       "    <tr>\n",
       "      <th>0</th>\n",
       "      <td>sequence</td>\n",
       "      <td>(68, 4)</td>\n",
       "    </tr>\n",
       "    <tr>\n",
       "      <th>1</th>\n",
       "      <td>structure</td>\n",
       "      <td>(68, 3)</td>\n",
       "    </tr>\n",
       "    <tr>\n",
       "      <th>2</th>\n",
       "      <td>predicted_loop_type</td>\n",
       "      <td>(68, 7)</td>\n",
       "    </tr>\n",
       "    <tr>\n",
       "      <th>3</th>\n",
       "      <td>adjacency_matrix</td>\n",
       "      <td>(68, 68)</td>\n",
       "    </tr>\n",
       "    <tr>\n",
       "      <th>4</th>\n",
       "      <td>edges_features_matrix</td>\n",
       "      <td>(68, 68, 3)</td>\n",
       "    </tr>\n",
       "    <tr>\n",
       "      <th>5</th>\n",
       "      <td>seq_scored</td>\n",
       "      <td>()</td>\n",
       "    </tr>\n",
       "    <tr>\n",
       "      <th>6</th>\n",
       "      <td>stacked_base_features</td>\n",
       "      <td>(68, 14)</td>\n",
       "    </tr>\n",
       "  </tbody>\n",
       "</table>\n",
       "</div>"
      ],
      "text/plain": [
       "            feature_name tensor_shape\n",
       "0               sequence      (68, 4)\n",
       "1              structure      (68, 3)\n",
       "2    predicted_loop_type      (68, 7)\n",
       "3       adjacency_matrix     (68, 68)\n",
       "4  edges_features_matrix  (68, 68, 3)\n",
       "5             seq_scored           ()\n",
       "6  stacked_base_features     (68, 14)"
      ]
     },
     "metadata": {},
     "output_type": "display_data"
    },
    {
     "name": "stdout",
     "output_type": "stream",
     "text": [
      "\n",
      "LABELS:\n"
     ]
    },
    {
     "data": {
      "text/html": [
       "<div>\n",
       "<style scoped>\n",
       "    .dataframe tbody tr th:only-of-type {\n",
       "        vertical-align: middle;\n",
       "    }\n",
       "\n",
       "    .dataframe tbody tr th {\n",
       "        vertical-align: top;\n",
       "    }\n",
       "\n",
       "    .dataframe thead th {\n",
       "        text-align: right;\n",
       "    }\n",
       "</style>\n",
       "<table border=\"1\" class=\"dataframe\">\n",
       "  <thead>\n",
       "    <tr style=\"text-align: right;\">\n",
       "      <th></th>\n",
       "      <th>label_name</th>\n",
       "      <th>tensor_shape</th>\n",
       "    </tr>\n",
       "  </thead>\n",
       "  <tbody>\n",
       "    <tr>\n",
       "      <th>0</th>\n",
       "      <td>stacked_scored_labels</td>\n",
       "      <td>(68, 3)</td>\n",
       "    </tr>\n",
       "  </tbody>\n",
       "</table>\n",
       "</div>"
      ],
      "text/plain": [
       "              label_name tensor_shape\n",
       "0  stacked_scored_labels      (68, 3)"
      ]
     },
     "metadata": {},
     "output_type": "display_data"
    },
    {
     "name": "stdout",
     "output_type": "stream",
     "text": [
      "dataset cardinality: 2400\n"
     ]
    }
   ],
   "source": [
    "inspect_dataset_columns(subgraphed_train_valid_ds)"
   ]
  },
  {
   "cell_type": "markdown",
   "metadata": {
    "colab_type": "text",
    "id": "4on25QKcoANA"
   },
   "source": [
    "# Model"
   ]
  },
  {
   "cell_type": "markdown",
   "metadata": {},
   "source": [
    "### Definition"
   ]
  },
  {
   "cell_type": "code",
   "execution_count": null,
   "metadata": {},
   "outputs": [],
   "source": [
    "def create_model_for_subgraphed_dataset(neighbourhood_size, stacked_features_size, edges_features_matrix_depth):\n",
    "    # Define inputs\n",
    "    sequence = Input(shape=(None, 4), name='sequence')\n",
    "    structure = Input(shape=(None, 3), name='structure')\n",
    "    loop_type = Input(shape=(None, 7), name='predicted_loop_type')\n",
    "    \n",
    "    not_subgraphed_inputs = (sequence, structure, loop_type)\n",
    "    \n",
    "    subgraphed_stacked_base_features = Input(shape=(None, neighbourhood_size, stacked_features_size), name='stacked_base_features')\n",
    "    subgraphed_adjacency_matrices = Input(shape=(None, neighbourhood_size, neighbourhood_size), name='adjacency_matrix')\n",
    "    subgraphed_edges_features_matrices = Input(shape=(None, neighbourhood_size, neighbourhood_size, edges_features_matrix_depth), name='edges_features_matrix')\n",
    "\n",
    "    subgraphed_inputs = (subgraphed_stacked_base_features, subgraphed_adjacency_matrices, subgraphed_edges_features_matrices)\n",
    "    \n",
    "    inputs = not_subgraphed_inputs + subgraphed_inputs\n",
    "    \n",
    "    # Main processing\n",
    "    x = Concatenate()(not_subgraphed_inputs)\n",
    "    seq = Bidirectional(LSTM(128, return_sequences=True))(x)\n",
    "    embedded_subgraphs_seq = Bidirectional(RNN(GraphLSTMCell(256), return_sequences=True))(subgraphed_inputs)\n",
    "    \n",
    "    x = Concatenate()([seq, embedded_subgraphs_seq])\n",
    "    \n",
    "    x = Bidirectional(LSTM(64, return_sequences=True))(x)\n",
    "    \n",
    "    x = TimeDistributed(Dense(512, activation='relu'))(x)\n",
    "    \n",
    "    # Define outputs\n",
    "    reactivity_pred = TimeDistributed(Dense(1), name='reactivity')(x)\n",
    "    deg_Mg_pH10_pred = TimeDistributed(Dense(1), name='deg_Mg_pH10')(x)\n",
    "    deg_Mg_50C_pred = TimeDistributed(Dense(1), name='deg_Mg_50C')(x)\n",
    "\n",
    "    scored_outputs = [reactivity_pred, deg_Mg_pH10_pred, deg_Mg_50C_pred]\n",
    "    outputs = Concatenate(axis=2, name='stacked_scored_labels')(scored_outputs)\n",
    "\n",
    "    model = Model(inputs=inputs, outputs=outputs)\n",
    "    \n",
    "    return model"
   ]
  },
  {
   "cell_type": "code",
   "execution_count": 7,
   "metadata": {},
   "outputs": [],
   "source": [
    "def create_model_for_subgraphed_dataset(neighbourhood_size, stacked_features_size, edges_features_matrix_depth):\n",
    "    # Define inputs\n",
    "    stacked_base_features = Input(shape=(None, stacked_features_size), name='stacked_base_features')\n",
    "    adjacency_matrix = Input(shape=(None, None), name='adjacency_matrix')\n",
    "    edges_features_matrix = Input(shape=(None, None, edges_features_matrix_depth), name='edges_features_matrix')\n",
    "\n",
    "    inputs = (stacked_base_features, adjacency_matrix, edges_features_matrix)\n",
    "    \n",
    "    subgraphed_inputs = Subgraphing(40)(inputs)\n",
    "    \n",
    "    # Main processing\n",
    "    seq = Bidirectional(LSTM(128, return_sequences=True))(stacked_base_features)\n",
    "    embedded_subgraphs_seq = Bidirectional(RNN(GraphLSTMCell(256), return_sequences=True))(subgraphed_inputs)\n",
    "    \n",
    "    x = Concatenate()([seq, embedded_subgraphs_seq])\n",
    "    \n",
    "    x = Bidirectional(LSTM(64, return_sequences=True))(x)\n",
    "    \n",
    "    x = TimeDistributed(Dense(512, activation='relu'))(x)\n",
    "    \n",
    "    # Define outputs\n",
    "    reactivity_pred = TimeDistributed(Dense(1), name='reactivity')(x)\n",
    "    deg_Mg_pH10_pred = TimeDistributed(Dense(1), name='deg_Mg_pH10')(x)\n",
    "    deg_Mg_50C_pred = TimeDistributed(Dense(1), name='deg_Mg_50C')(x)\n",
    "\n",
    "    scored_outputs = [reactivity_pred, deg_Mg_pH10_pred, deg_Mg_50C_pred]\n",
    "    outputs = Concatenate(axis=2, name='stacked_scored_labels')(scored_outputs)\n",
    "\n",
    "    model = Model(inputs=inputs, outputs=outputs)\n",
    "    \n",
    "    return model"
   ]
  },
  {
   "cell_type": "markdown",
   "metadata": {},
   "source": [
    "Submissions are scored using MCRMSE (mean columnwise root mean squared error):\n",
    "$\\textrm{MCRMSE} = \\frac{1}{N_{t}}\\sum_{j=1}^{N_{t}}\\sqrt{\\frac{1}{n} \\sum_{i=1}^{n} (y_{ij} - \\hat{y}_{ij})^2}$"
   ]
  },
  {
   "cell_type": "code",
   "execution_count": 8,
   "metadata": {
    "colab": {},
    "colab_type": "code",
    "id": "l5vdAIA3Davf"
   },
   "outputs": [],
   "source": [
    "def mcrmse(y_true, y_pred):\n",
    "    rmse = tf.sqrt(tf.reduce_mean(tf.square(y_true - y_pred), axis=1))\n",
    "    return tf.reduce_mean(rmse, axis=1)"
   ]
  },
  {
   "cell_type": "markdown",
   "metadata": {},
   "source": [
    "### Instantiation"
   ]
  },
  {
   "cell_type": "code",
   "execution_count": 9,
   "metadata": {},
   "outputs": [
    {
     "name": "stdout",
     "output_type": "stream",
     "text": [
      "WARNING:tensorflow:`period` argument is deprecated. Please use `save_freq` to specify the frequency in number of batches seen.\n"
     ]
    }
   ],
   "source": [
    "model = create_model_for_subgraphed_dataset(NEIGHBOURHOOD_SIZE, STACKED_FEATURES_SIZE, EDGES_FEATURES_MATRIX_DEPTH)\n",
    "\n",
    "log_dir = os.path.join(os.getcwd(), 'logs')\n",
    "model_name = datetime.now().strftime('model_%Y_%m_%d__%H_%M_%S')\n",
    "model_log_dir = os.path.join(log_dir, model_name)\n",
    "tensorboard_callback = tf.keras.callbacks.TensorBoard(log_dir=model_log_dir, histogram_freq=0, update_freq='epoch')\n",
    "\n",
    "model_file_name = model_name\n",
    "models_path = os.path.join(os.getcwd(), 'models')\n",
    "model_path = os.path.join(models_path, model_file_name)\n",
    "model_checkpoint_callback = tf.keras.callbacks.ModelCheckpoint(filepath=model_path, moniotr='val_loss', verbose=1, save_best_only=True, period=10)\n",
    "\n",
    "model.compile(loss=mcrmse,\n",
    "#               optimizer=tf.keras.optimizers.SGD(0.01, momentum=0.9),\n",
    "              optimizer='adam')"
   ]
  },
  {
   "cell_type": "code",
   "execution_count": 10,
   "metadata": {},
   "outputs": [
    {
     "data": {
      "text/plain": [
       "'/home/jan/kaggle_competitions/covid/models/model_2020_10_05__13_27_06'"
      ]
     },
     "execution_count": 10,
     "metadata": {},
     "output_type": "execute_result"
    }
   ],
   "source": [
    "model_path"
   ]
  },
  {
   "cell_type": "markdown",
   "metadata": {
    "colab": {},
    "colab_type": "code",
    "id": "aGKa7j6LDZxr"
   },
   "source": [
    "### Inspection"
   ]
  },
  {
   "cell_type": "code",
   "execution_count": 11,
   "metadata": {},
   "outputs": [
    {
     "data": {
      "image/png": "[encoded data removed]",
      "text/plain": [
       "<IPython.core.display.Image object>"
      ]
     },
     "execution_count": 11,
     "metadata": {},
     "output_type": "execute_result"
    }
   ],
   "source": [
    "tf.keras.utils.plot_model(model, show_shapes=True)"
   ]
  },
  {
   "cell_type": "code",
   "execution_count": 11,
   "metadata": {},
   "outputs": [
    {
     "name": "stdout",
     "output_type": "stream",
     "text": [
      "Model: \"functional_1\"\n",
      "__________________________________________________________________________________________________\n",
      "Layer (type)                    Output Shape         Param #     Connected to                     \n",
      "==================================================================================================\n",
      "stacked_base_features (InputLay [(None, None, 14)]   0                                            \n",
      "__________________________________________________________________________________________________\n",
      "adjacency_matrix (InputLayer)   [(None, None, None)] 0                                            \n",
      "__________________________________________________________________________________________________\n",
      "edges_features_matrix (InputLay [(None, None, None,  0                                            \n",
      "__________________________________________________________________________________________________\n",
      "subgraphing (Subgraphing)       ((None, None, 40, 14 0           stacked_base_features[0][0]      \n",
      "                                                                 adjacency_matrix[0][0]           \n",
      "                                                                 edges_features_matrix[0][0]      \n",
      "__________________________________________________________________________________________________\n",
      "bidirectional (Bidirectional)   (None, None, 256)    146432      stacked_base_features[0][0]      \n",
      "__________________________________________________________________________________________________\n",
      "bidirectional_1 (Bidirectional) (None, None, 512)    1341952     subgraphing[0][0]                \n",
      "                                                                 subgraphing[0][1]                \n",
      "                                                                 subgraphing[0][2]                \n",
      "__________________________________________________________________________________________________\n",
      "concatenate (Concatenate)       (None, None, 768)    0           bidirectional[0][0]              \n",
      "                                                                 bidirectional_1[0][0]            \n",
      "__________________________________________________________________________________________________\n",
      "bidirectional_2 (Bidirectional) (None, None, 128)    426496      concatenate[0][0]                \n",
      "__________________________________________________________________________________________________\n",
      "time_distributed (TimeDistribut (None, None, 512)    66048       bidirectional_2[0][0]            \n",
      "__________________________________________________________________________________________________\n",
      "reactivity (TimeDistributed)    (None, None, 1)      513         time_distributed[0][0]           \n",
      "__________________________________________________________________________________________________\n",
      "deg_Mg_pH10 (TimeDistributed)   (None, None, 1)      513         time_distributed[0][0]           \n",
      "__________________________________________________________________________________________________\n",
      "deg_Mg_50C (TimeDistributed)    (None, None, 1)      513         time_distributed[0][0]           \n",
      "__________________________________________________________________________________________________\n",
      "stacked_scored_labels (Concaten (None, None, 3)      0           reactivity[0][0]                 \n",
      "                                                                 deg_Mg_pH10[0][0]                \n",
      "                                                                 deg_Mg_50C[0][0]                 \n",
      "==================================================================================================\n",
      "Total params: 1,982,467\n",
      "Trainable params: 1,982,467\n",
      "Non-trainable params: 0\n",
      "__________________________________________________________________________________________________\n"
     ]
    }
   ],
   "source": [
    "model.summary()"
   ]
  },
  {
   "cell_type": "markdown",
   "metadata": {},
   "source": [
    "model.evaluate(subgraphed_valid_ds.batch(64))# Additional dataset preparations"
   ]
  },
  {
   "cell_type": "code",
   "execution_count": 12,
   "metadata": {},
   "outputs": [],
   "source": [
    "SPLIT_FACTOR = 0.3\n",
    "subgraphed_train_ds, subgraphed_valid_ds = split_into_train_and_valid(subgraphed_train_valid_ds, split_factor=SPLIT_FACTOR)"
   ]
  },
  {
   "cell_type": "markdown",
   "metadata": {},
   "source": [
    "### Baseline training and testing models evaluation"
   ]
  },
  {
   "cell_type": "code",
   "execution_count": 13,
   "metadata": {},
   "outputs": [
    {
     "name": "stderr",
     "output_type": "stream",
     "text": [
      "/home/jan/.local/share/virtualenvs/covid-EPTM6kfD/lib/python3.7/site-packages/tensorflow/python/keras/engine/functional.py:543: UserWarning: Input dict contained keys ['sequence', 'structure', 'predicted_loop_type', 'seq_scored'] which did not match any model input. They will be ignored by the model.\n",
      "  [n for n in tensors.keys() if n not in ref_input_names])\n"
     ]
    },
    {
     "name": "stdout",
     "output_type": "stream",
     "text": [
      "12/12 [==============================] - 82s 7s/step - loss: 0.7418\n"
     ]
    },
    {
     "data": {
      "text/plain": [
       "0.7418102025985718"
      ]
     },
     "execution_count": 13,
     "metadata": {},
     "output_type": "execute_result"
    }
   ],
   "source": [
    "model.evaluate(subgraphed_valid_ds.batch(64))"
   ]
  },
  {
   "cell_type": "markdown",
   "metadata": {},
   "source": [
    "# Model training"
   ]
  },
  {
   "cell_type": "code",
   "execution_count": 13,
   "metadata": {},
   "outputs": [
    {
     "data": {
      "text/plain": [
       "Reusing TensorBoard on port 6006 (pid 8264), started 0:06:02 ago. (Use '!kill 8264' to kill it.)"
      ]
     },
     "metadata": {},
     "output_type": "display_data"
    },
    {
     "data": {
      "text/html": [
       "\n",
       "      <iframe id=\"tensorboard-frame-d6a619eac88d2725\" width=\"100%\" height=\"800\" frameborder=\"0\">\n",
       "      </iframe>\n",
       "      <script>\n",
       "        (function() {\n",
       "          const frame = document.getElementById(\"tensorboard-frame-d6a619eac88d2725\");\n",
       "          const url = new URL(\"/\", window.location);\n",
       "          const port = 6006;\n",
       "          if (port) {\n",
       "            url.port = port;\n",
       "          }\n",
       "          frame.src = url;\n",
       "        })();\n",
       "      </script>\n",
       "    "
      ],
      "text/plain": [
       "<IPython.core.display.HTML object>"
      ]
     },
     "metadata": {},
     "output_type": "display_data"
    }
   ],
   "source": [
    "%tensorboard --logdir $log_dir"
   ]
  },
  {
   "cell_type": "code",
   "execution_count": 14,
   "metadata": {
    "colab": {
     "base_uri": "https://localhost:8080/",
     "height": 581
    },
    "colab_type": "code",
    "id": "NV4yKXcjLxdB",
    "outputId": "ae59b2ee-35b9-43a2-b3e4-934cf6e85ba8"
   },
   "outputs": [
    {
     "name": "stdout",
     "output_type": "stream",
     "text": [
      "Epoch 1/10\n"
     ]
    },
    {
     "name": "stderr",
     "output_type": "stream",
     "text": [
      "/home/jan/.local/share/virtualenvs/covid-EPTM6kfD/lib/python3.7/site-packages/tensorflow/python/keras/engine/functional.py:543: UserWarning: Input dict contained keys ['sequence', 'structure', 'predicted_loop_type', 'seq_scored'] which did not match any model input. They will be ignored by the model.\n",
      "  [n for n in tensors.keys() if n not in ref_input_names])\n"
     ]
    },
    {
     "name": "stdout",
     "output_type": "stream",
     "text": [
      " 1/53 [..............................] - ETA: 0s - loss: 0.6698WARNING:tensorflow:From /home/jan/.local/share/virtualenvs/covid-EPTM6kfD/lib/python3.7/site-packages/tensorflow/python/ops/summary_ops_v2.py:1277: stop (from tensorflow.python.eager.profiler) is deprecated and will be removed after 2020-07-01.\n",
      "Instructions for updating:\n",
      "use `tf.profiler.experimental.stop` instead.\n",
      "53/53 [==============================] - 347s 7s/step - loss: 0.5453 - val_loss: 0.5042\n",
      "Epoch 2/10\n",
      "53/53 [==============================] - 341s 6s/step - loss: 0.4865 - val_loss: 0.4628\n",
      "Epoch 3/10\n",
      "53/53 [==============================] - 337s 6s/step - loss: 0.4614 - val_loss: 0.4799\n",
      "Epoch 4/10\n",
      "53/53 [==============================] - 338s 6s/step - loss: 0.4421 - val_loss: 0.4362\n",
      "Epoch 5/10\n",
      "53/53 [==============================] - 341s 6s/step - loss: 0.4356 - val_loss: 0.4254\n",
      "Epoch 6/10\n",
      " 1/53 [..............................] - ETA: 0s - loss: 0.3142"
     ]
    },
    {
     "ename": "KeyboardInterrupt",
     "evalue": "",
     "output_type": "error",
     "traceback": [
      "\u001b[0;31m---------------------------------------------------------------------------\u001b[0m",
      "\u001b[0;31mKeyboardInterrupt\u001b[0m                         Traceback (most recent call last)",
      "\u001b[0;32m<ipython-input-14-5df6451deba2>\u001b[0m in \u001b[0;36m<module>\u001b[0;34m\u001b[0m\n\u001b[1;32m      7\u001b[0m                     \u001b[0mverbose\u001b[0m\u001b[0;34m=\u001b[0m\u001b[0;36m1\u001b[0m\u001b[0;34m,\u001b[0m\u001b[0;34m\u001b[0m\u001b[0;34m\u001b[0m\u001b[0m\n\u001b[1;32m      8\u001b[0m                     \u001b[0mshuffle\u001b[0m\u001b[0;34m=\u001b[0m\u001b[0;32mTrue\u001b[0m\u001b[0;34m,\u001b[0m\u001b[0;34m\u001b[0m\u001b[0;34m\u001b[0m\u001b[0m\n\u001b[0;32m----> 9\u001b[0;31m                     callbacks=[tensorboard_callback, model_checkpoint_callback])\n\u001b[0m",
      "\u001b[0;32m~/.local/share/virtualenvs/covid-EPTM6kfD/lib/python3.7/site-packages/tensorflow/python/keras/engine/training.py\u001b[0m in \u001b[0;36m_method_wrapper\u001b[0;34m(self, *args, **kwargs)\u001b[0m\n\u001b[1;32m    106\u001b[0m   \u001b[0;32mdef\u001b[0m \u001b[0m_method_wrapper\u001b[0m\u001b[0;34m(\u001b[0m\u001b[0mself\u001b[0m\u001b[0;34m,\u001b[0m \u001b[0;34m*\u001b[0m\u001b[0margs\u001b[0m\u001b[0;34m,\u001b[0m \u001b[0;34m**\u001b[0m\u001b[0mkwargs\u001b[0m\u001b[0;34m)\u001b[0m\u001b[0;34m:\u001b[0m\u001b[0;34m\u001b[0m\u001b[0;34m\u001b[0m\u001b[0m\n\u001b[1;32m    107\u001b[0m     \u001b[0;32mif\u001b[0m \u001b[0;32mnot\u001b[0m \u001b[0mself\u001b[0m\u001b[0;34m.\u001b[0m\u001b[0m_in_multi_worker_mode\u001b[0m\u001b[0;34m(\u001b[0m\u001b[0;34m)\u001b[0m\u001b[0;34m:\u001b[0m  \u001b[0;31m# pylint: disable=protected-access\u001b[0m\u001b[0;34m\u001b[0m\u001b[0;34m\u001b[0m\u001b[0m\n\u001b[0;32m--> 108\u001b[0;31m       \u001b[0;32mreturn\u001b[0m \u001b[0mmethod\u001b[0m\u001b[0;34m(\u001b[0m\u001b[0mself\u001b[0m\u001b[0;34m,\u001b[0m \u001b[0;34m*\u001b[0m\u001b[0margs\u001b[0m\u001b[0;34m,\u001b[0m \u001b[0;34m**\u001b[0m\u001b[0mkwargs\u001b[0m\u001b[0;34m)\u001b[0m\u001b[0;34m\u001b[0m\u001b[0;34m\u001b[0m\u001b[0m\n\u001b[0m\u001b[1;32m    109\u001b[0m \u001b[0;34m\u001b[0m\u001b[0m\n\u001b[1;32m    110\u001b[0m     \u001b[0;31m# Running inside `run_distribute_coordinator` already.\u001b[0m\u001b[0;34m\u001b[0m\u001b[0;34m\u001b[0m\u001b[0;34m\u001b[0m\u001b[0m\n",
      "\u001b[0;32m~/.local/share/virtualenvs/covid-EPTM6kfD/lib/python3.7/site-packages/tensorflow/python/keras/engine/training.py\u001b[0m in \u001b[0;36mfit\u001b[0;34m(self, x, y, batch_size, epochs, verbose, callbacks, validation_split, validation_data, shuffle, class_weight, sample_weight, initial_epoch, steps_per_epoch, validation_steps, validation_batch_size, validation_freq, max_queue_size, workers, use_multiprocessing)\u001b[0m\n\u001b[1;32m   1096\u001b[0m                 batch_size=batch_size):\n\u001b[1;32m   1097\u001b[0m               \u001b[0mcallbacks\u001b[0m\u001b[0;34m.\u001b[0m\u001b[0mon_train_batch_begin\u001b[0m\u001b[0;34m(\u001b[0m\u001b[0mstep\u001b[0m\u001b[0;34m)\u001b[0m\u001b[0;34m\u001b[0m\u001b[0;34m\u001b[0m\u001b[0m\n\u001b[0;32m-> 1098\u001b[0;31m               \u001b[0mtmp_logs\u001b[0m \u001b[0;34m=\u001b[0m \u001b[0mtrain_function\u001b[0m\u001b[0;34m(\u001b[0m\u001b[0miterator\u001b[0m\u001b[0;34m)\u001b[0m\u001b[0;34m\u001b[0m\u001b[0;34m\u001b[0m\u001b[0m\n\u001b[0m\u001b[1;32m   1099\u001b[0m               \u001b[0;32mif\u001b[0m \u001b[0mdata_handler\u001b[0m\u001b[0;34m.\u001b[0m\u001b[0mshould_sync\u001b[0m\u001b[0;34m:\u001b[0m\u001b[0;34m\u001b[0m\u001b[0;34m\u001b[0m\u001b[0m\n\u001b[1;32m   1100\u001b[0m                 \u001b[0mcontext\u001b[0m\u001b[0;34m.\u001b[0m\u001b[0masync_wait\u001b[0m\u001b[0;34m(\u001b[0m\u001b[0;34m)\u001b[0m\u001b[0;34m\u001b[0m\u001b[0;34m\u001b[0m\u001b[0m\n",
      "\u001b[0;32m~/.local/share/virtualenvs/covid-EPTM6kfD/lib/python3.7/site-packages/tensorflow/python/eager/def_function.py\u001b[0m in \u001b[0;36m__call__\u001b[0;34m(self, *args, **kwds)\u001b[0m\n\u001b[1;32m    778\u001b[0m       \u001b[0;32melse\u001b[0m\u001b[0;34m:\u001b[0m\u001b[0;34m\u001b[0m\u001b[0;34m\u001b[0m\u001b[0m\n\u001b[1;32m    779\u001b[0m         \u001b[0mcompiler\u001b[0m \u001b[0;34m=\u001b[0m \u001b[0;34m\"nonXla\"\u001b[0m\u001b[0;34m\u001b[0m\u001b[0;34m\u001b[0m\u001b[0m\n\u001b[0;32m--> 780\u001b[0;31m         \u001b[0mresult\u001b[0m \u001b[0;34m=\u001b[0m \u001b[0mself\u001b[0m\u001b[0;34m.\u001b[0m\u001b[0m_call\u001b[0m\u001b[0;34m(\u001b[0m\u001b[0;34m*\u001b[0m\u001b[0margs\u001b[0m\u001b[0;34m,\u001b[0m \u001b[0;34m**\u001b[0m\u001b[0mkwds\u001b[0m\u001b[0;34m)\u001b[0m\u001b[0;34m\u001b[0m\u001b[0;34m\u001b[0m\u001b[0m\n\u001b[0m\u001b[1;32m    781\u001b[0m \u001b[0;34m\u001b[0m\u001b[0m\n\u001b[1;32m    782\u001b[0m       \u001b[0mnew_tracing_count\u001b[0m \u001b[0;34m=\u001b[0m \u001b[0mself\u001b[0m\u001b[0;34m.\u001b[0m\u001b[0m_get_tracing_count\u001b[0m\u001b[0;34m(\u001b[0m\u001b[0;34m)\u001b[0m\u001b[0;34m\u001b[0m\u001b[0;34m\u001b[0m\u001b[0m\n",
      "\u001b[0;32m~/.local/share/virtualenvs/covid-EPTM6kfD/lib/python3.7/site-packages/tensorflow/python/eager/def_function.py\u001b[0m in \u001b[0;36m_call\u001b[0;34m(self, *args, **kwds)\u001b[0m\n\u001b[1;32m    805\u001b[0m       \u001b[0;31m# In this case we have created variables on the first call, so we run the\u001b[0m\u001b[0;34m\u001b[0m\u001b[0;34m\u001b[0m\u001b[0;34m\u001b[0m\u001b[0m\n\u001b[1;32m    806\u001b[0m       \u001b[0;31m# defunned version which is guaranteed to never create variables.\u001b[0m\u001b[0;34m\u001b[0m\u001b[0;34m\u001b[0m\u001b[0;34m\u001b[0m\u001b[0m\n\u001b[0;32m--> 807\u001b[0;31m       \u001b[0;32mreturn\u001b[0m \u001b[0mself\u001b[0m\u001b[0;34m.\u001b[0m\u001b[0m_stateless_fn\u001b[0m\u001b[0;34m(\u001b[0m\u001b[0;34m*\u001b[0m\u001b[0margs\u001b[0m\u001b[0;34m,\u001b[0m \u001b[0;34m**\u001b[0m\u001b[0mkwds\u001b[0m\u001b[0;34m)\u001b[0m  \u001b[0;31m# pylint: disable=not-callable\u001b[0m\u001b[0;34m\u001b[0m\u001b[0;34m\u001b[0m\u001b[0m\n\u001b[0m\u001b[1;32m    808\u001b[0m     \u001b[0;32melif\u001b[0m \u001b[0mself\u001b[0m\u001b[0;34m.\u001b[0m\u001b[0m_stateful_fn\u001b[0m \u001b[0;32mis\u001b[0m \u001b[0;32mnot\u001b[0m \u001b[0;32mNone\u001b[0m\u001b[0;34m:\u001b[0m\u001b[0;34m\u001b[0m\u001b[0;34m\u001b[0m\u001b[0m\n\u001b[1;32m    809\u001b[0m       \u001b[0;31m# Release the lock early so that multiple threads can perform the call\u001b[0m\u001b[0;34m\u001b[0m\u001b[0;34m\u001b[0m\u001b[0;34m\u001b[0m\u001b[0m\n",
      "\u001b[0;32m~/.local/share/virtualenvs/covid-EPTM6kfD/lib/python3.7/site-packages/tensorflow/python/eager/function.py\u001b[0m in \u001b[0;36m__call__\u001b[0;34m(self, *args, **kwargs)\u001b[0m\n\u001b[1;32m   2827\u001b[0m     \u001b[0;32mwith\u001b[0m \u001b[0mself\u001b[0m\u001b[0;34m.\u001b[0m\u001b[0m_lock\u001b[0m\u001b[0;34m:\u001b[0m\u001b[0;34m\u001b[0m\u001b[0;34m\u001b[0m\u001b[0m\n\u001b[1;32m   2828\u001b[0m       \u001b[0mgraph_function\u001b[0m\u001b[0;34m,\u001b[0m \u001b[0margs\u001b[0m\u001b[0;34m,\u001b[0m \u001b[0mkwargs\u001b[0m \u001b[0;34m=\u001b[0m \u001b[0mself\u001b[0m\u001b[0;34m.\u001b[0m\u001b[0m_maybe_define_function\u001b[0m\u001b[0;34m(\u001b[0m\u001b[0margs\u001b[0m\u001b[0;34m,\u001b[0m \u001b[0mkwargs\u001b[0m\u001b[0;34m)\u001b[0m\u001b[0;34m\u001b[0m\u001b[0;34m\u001b[0m\u001b[0m\n\u001b[0;32m-> 2829\u001b[0;31m     \u001b[0;32mreturn\u001b[0m \u001b[0mgraph_function\u001b[0m\u001b[0;34m.\u001b[0m\u001b[0m_filtered_call\u001b[0m\u001b[0;34m(\u001b[0m\u001b[0margs\u001b[0m\u001b[0;34m,\u001b[0m \u001b[0mkwargs\u001b[0m\u001b[0;34m)\u001b[0m  \u001b[0;31m# pylint: disable=protected-access\u001b[0m\u001b[0;34m\u001b[0m\u001b[0;34m\u001b[0m\u001b[0m\n\u001b[0m\u001b[1;32m   2830\u001b[0m \u001b[0;34m\u001b[0m\u001b[0m\n\u001b[1;32m   2831\u001b[0m   \u001b[0;34m@\u001b[0m\u001b[0mproperty\u001b[0m\u001b[0;34m\u001b[0m\u001b[0;34m\u001b[0m\u001b[0m\n",
      "\u001b[0;32m~/.local/share/virtualenvs/covid-EPTM6kfD/lib/python3.7/site-packages/tensorflow/python/eager/function.py\u001b[0m in \u001b[0;36m_filtered_call\u001b[0;34m(self, args, kwargs, cancellation_manager)\u001b[0m\n\u001b[1;32m   1846\u001b[0m                            resource_variable_ops.BaseResourceVariable))],\n\u001b[1;32m   1847\u001b[0m         \u001b[0mcaptured_inputs\u001b[0m\u001b[0;34m=\u001b[0m\u001b[0mself\u001b[0m\u001b[0;34m.\u001b[0m\u001b[0mcaptured_inputs\u001b[0m\u001b[0;34m,\u001b[0m\u001b[0;34m\u001b[0m\u001b[0;34m\u001b[0m\u001b[0m\n\u001b[0;32m-> 1848\u001b[0;31m         cancellation_manager=cancellation_manager)\n\u001b[0m\u001b[1;32m   1849\u001b[0m \u001b[0;34m\u001b[0m\u001b[0m\n\u001b[1;32m   1850\u001b[0m   \u001b[0;32mdef\u001b[0m \u001b[0m_call_flat\u001b[0m\u001b[0;34m(\u001b[0m\u001b[0mself\u001b[0m\u001b[0;34m,\u001b[0m \u001b[0margs\u001b[0m\u001b[0;34m,\u001b[0m \u001b[0mcaptured_inputs\u001b[0m\u001b[0;34m,\u001b[0m \u001b[0mcancellation_manager\u001b[0m\u001b[0;34m=\u001b[0m\u001b[0;32mNone\u001b[0m\u001b[0;34m)\u001b[0m\u001b[0;34m:\u001b[0m\u001b[0;34m\u001b[0m\u001b[0;34m\u001b[0m\u001b[0m\n",
      "\u001b[0;32m~/.local/share/virtualenvs/covid-EPTM6kfD/lib/python3.7/site-packages/tensorflow/python/eager/function.py\u001b[0m in \u001b[0;36m_call_flat\u001b[0;34m(self, args, captured_inputs, cancellation_manager)\u001b[0m\n\u001b[1;32m   1922\u001b[0m       \u001b[0;31m# No tape is watching; skip to running the function.\u001b[0m\u001b[0;34m\u001b[0m\u001b[0;34m\u001b[0m\u001b[0;34m\u001b[0m\u001b[0m\n\u001b[1;32m   1923\u001b[0m       return self._build_call_outputs(self._inference_function.call(\n\u001b[0;32m-> 1924\u001b[0;31m           ctx, args, cancellation_manager=cancellation_manager))\n\u001b[0m\u001b[1;32m   1925\u001b[0m     forward_backward = self._select_forward_and_backward_functions(\n\u001b[1;32m   1926\u001b[0m         \u001b[0margs\u001b[0m\u001b[0;34m,\u001b[0m\u001b[0;34m\u001b[0m\u001b[0;34m\u001b[0m\u001b[0m\n",
      "\u001b[0;32m~/.local/share/virtualenvs/covid-EPTM6kfD/lib/python3.7/site-packages/tensorflow/python/eager/function.py\u001b[0m in \u001b[0;36mcall\u001b[0;34m(self, ctx, args, cancellation_manager)\u001b[0m\n\u001b[1;32m    548\u001b[0m               \u001b[0minputs\u001b[0m\u001b[0;34m=\u001b[0m\u001b[0margs\u001b[0m\u001b[0;34m,\u001b[0m\u001b[0;34m\u001b[0m\u001b[0;34m\u001b[0m\u001b[0m\n\u001b[1;32m    549\u001b[0m               \u001b[0mattrs\u001b[0m\u001b[0;34m=\u001b[0m\u001b[0mattrs\u001b[0m\u001b[0;34m,\u001b[0m\u001b[0;34m\u001b[0m\u001b[0;34m\u001b[0m\u001b[0m\n\u001b[0;32m--> 550\u001b[0;31m               ctx=ctx)\n\u001b[0m\u001b[1;32m    551\u001b[0m         \u001b[0;32melse\u001b[0m\u001b[0;34m:\u001b[0m\u001b[0;34m\u001b[0m\u001b[0;34m\u001b[0m\u001b[0m\n\u001b[1;32m    552\u001b[0m           outputs = execute.execute_with_cancellation(\n",
      "\u001b[0;32m~/.local/share/virtualenvs/covid-EPTM6kfD/lib/python3.7/site-packages/tensorflow/python/eager/execute.py\u001b[0m in \u001b[0;36mquick_execute\u001b[0;34m(op_name, num_outputs, inputs, attrs, ctx, name)\u001b[0m\n\u001b[1;32m     58\u001b[0m     \u001b[0mctx\u001b[0m\u001b[0;34m.\u001b[0m\u001b[0mensure_initialized\u001b[0m\u001b[0;34m(\u001b[0m\u001b[0;34m)\u001b[0m\u001b[0;34m\u001b[0m\u001b[0;34m\u001b[0m\u001b[0m\n\u001b[1;32m     59\u001b[0m     tensors = pywrap_tfe.TFE_Py_Execute(ctx._handle, device_name, op_name,\n\u001b[0;32m---> 60\u001b[0;31m                                         inputs, attrs, num_outputs)\n\u001b[0m\u001b[1;32m     61\u001b[0m   \u001b[0;32mexcept\u001b[0m \u001b[0mcore\u001b[0m\u001b[0;34m.\u001b[0m\u001b[0m_NotOkStatusException\u001b[0m \u001b[0;32mas\u001b[0m \u001b[0me\u001b[0m\u001b[0;34m:\u001b[0m\u001b[0;34m\u001b[0m\u001b[0;34m\u001b[0m\u001b[0m\n\u001b[1;32m     62\u001b[0m     \u001b[0;32mif\u001b[0m \u001b[0mname\u001b[0m \u001b[0;32mis\u001b[0m \u001b[0;32mnot\u001b[0m \u001b[0;32mNone\u001b[0m\u001b[0;34m:\u001b[0m\u001b[0;34m\u001b[0m\u001b[0;34m\u001b[0m\u001b[0m\n",
      "\u001b[0;31mKeyboardInterrupt\u001b[0m: "
     ]
    }
   ],
   "source": [
    "BATCH_SIZE = 32\n",
    "EPOCHS = 10\n",
    "history = model.fit(subgraphed_train_ds.batch(BATCH_SIZE),\n",
    "                    validation_data=subgraphed_valid_ds.batch(BATCH_SIZE),\n",
    "                    epochs=EPOCHS,\n",
    "                    initial_epoch=0,\n",
    "                    verbose=1,\n",
    "                    shuffle=True,\n",
    "                    callbacks=[tensorboard_callback, model_checkpoint_callback])"
   ]
  },
  {
   "cell_type": "code",
   "execution_count": 26,
   "metadata": {},
   "outputs": [],
   "source": [
    "def model_builder(hp):\n",
    "    # Define inputs\n",
    "    stacked_base_features = Input(shape=(None, STACKED_FEATURES_SIZE), name='stacked_base_features')\n",
    "    adjacency_matrix = Input(shape=(None, None), name='adjacency_matrix')\n",
    "    edges_features_matrix = Input(shape=(None, None, EDGES_FEATURES_MATRIX_DEPTH), name='edges_features_matrix')\n",
    "\n",
    "    inputs = (stacked_base_features, adjacency_matrix, edges_features_matrix)\n",
    "    \n",
    "    neighbourhood_size = hp.Int('neighbourhood_size', min_value = 5, max_value = 65, step = 5)\n",
    "    subgraphed_inputs = Subgraphing(neighbourhood_size)(inputs)\n",
    "    \n",
    "    # Main processing\n",
    "    hp_lstm_1_units = hp.Int('lstm_1_units', min_value = 32, max_value = 256, step = 32)\n",
    "    seq = Bidirectional(LSTM(hp_lstm_1_units, return_sequences=True))(stacked_base_features)\n",
    "    \n",
    "    hp_graph_lstm_units = hp.Int('graph_lstm_units', min_value = 64, max_value = 512, step = 64)\n",
    "    embedded_subgraphs_seq = Bidirectional(RNN(GraphLSTMCell(hp_graph_lstm_units), return_sequences=True))(subgraphed_inputs)\n",
    "    \n",
    "    x = Concatenate()([seq, embedded_subgraphs_seq])\n",
    "    \n",
    "    hp_lstm_2_units = hp.Int('lstm_2_units', min_value = 32, max_value = 256, step = 32)\n",
    "    x = Bidirectional(LSTM(hp_lstm_2_units, return_sequences=True))(x)\n",
    "    \n",
    "    hp_dense_1_units = hp.Int('dense_1_units', min_value = 64, max_value = 512, step = 64)\n",
    "    x = TimeDistributed(Dense(hp_dense_1_units, activation='relu'))(x)\n",
    "    \n",
    "    # Define outputs\n",
    "    reactivity_pred = TimeDistributed(Dense(1), name='reactivity')(x)\n",
    "    deg_Mg_pH10_pred = TimeDistributed(Dense(1), name='deg_Mg_pH10')(x)\n",
    "    deg_Mg_50C_pred = TimeDistributed(Dense(1), name='deg_Mg_50C')(x)\n",
    "\n",
    "    scored_outputs = [reactivity_pred, deg_Mg_pH10_pred, deg_Mg_50C_pred]\n",
    "    outputs = Concatenate(axis=2, name='stacked_scored_labels')(scored_outputs)\n",
    "\n",
    "    model = Model(inputs=inputs, outputs=outputs)\n",
    "    \n",
    "    model.compile(loss=mcrmse, optimizer='adam')\n",
    "    \n",
    "    return model"
   ]
  },
  {
   "cell_type": "code",
   "execution_count": null,
   "metadata": {},
   "outputs": [],
   "source": []
  },
  {
   "cell_type": "code",
   "execution_count": 29,
   "metadata": {},
   "outputs": [
    {
     "name": "stdout",
     "output_type": "stream",
     "text": [
      "INFO:tensorflow:Reloading Oracle from existing project /home/jan/kaggle_competitions/covid/tuner_dir/tuner_project_name/oracle.json\n",
      "INFO:tensorflow:Reloading Tuner from /home/jan/kaggle_competitions/covid/tuner_dir/tuner_project_name/tuner0.json\n"
     ]
    }
   ],
   "source": [
    "tuner_dir_path = os.path.join(os.getcwd(), 'tuner_dir')\n",
    "tuner = kt.Hyperband(model_builder,\n",
    "                     objective = 'val_loss', \n",
    "                     max_epochs = 10,\n",
    "                     factor = 2,\n",
    "                     directory = tuner_dir_path,\n",
    "                     project_name = 'tuner_project_name')"
   ]
  },
  {
   "cell_type": "code",
   "execution_count": 30,
   "metadata": {},
   "outputs": [
    {
     "name": "stdout",
     "output_type": "stream",
     "text": [
      "53/53 [==============================] - ETA: 0s - loss: 0.800 - ETA: 4:26 - loss: 0.960 - ETA: 5:39 - loss: 0.871 - ETA: 6:18 - loss: 0.841 - ETA: 6:36 - loss: 0.801 - ETA: 6:44 - loss: 0.777 - ETA: 6:46 - loss: 0.742 - ETA: 6:45 - loss: 0.709 - ETA: 6:44 - loss: 0.699 - ETA: 6:39 - loss: 0.672 - ETA: 6:33 - loss: 0.655 - ETA: 6:26 - loss: 0.642 - ETA: 6:19 - loss: 0.639 - ETA: 6:11 - loss: 0.628 - ETA: 6:02 - loss: 0.616 - ETA: 5:54 - loss: 0.620 - ETA: 5:45 - loss: 0.618 - ETA: 5:36 - loss: 0.613 - ETA: 5:27 - loss: 0.616 - ETA: 5:19 - loss: 0.610 - ETA: 5:09 - loss: 0.612 - ETA: 5:00 - loss: 0.604 - ETA: 4:51 - loss: 0.607 - ETA: 4:42 - loss: 0.600 - ETA: 4:32 - loss: 0.596 - ETA: 4:23 - loss: 0.591 - ETA: 4:14 - loss: 0.586 - ETA: 4:04 - loss: 0.580 - ETA: 3:54 - loss: 0.579 - ETA: 3:45 - loss: 0.576 - ETA: 3:35 - loss: 0.575 - ETA: 3:26 - loss: 0.576 - ETA: 3:16 - loss: 0.578 - ETA: 3:06 - loss: 0.576 - ETA: 2:57 - loss: 0.575 - ETA: 2:47 - loss: 0.572 - ETA: 2:37 - loss: 0.570 - ETA: 2:28 - loss: 0.567 - ETA: 2:18 - loss: 0.564 - ETA: 2:08 - loss: 0.560 - ETA: 1:58 - loss: 0.557 - ETA: 1:48 - loss: 0.555 - ETA: 1:38 - loss: 0.552 - ETA: 1:29 - loss: 0.553 - ETA: 1:19 - loss: 0.553 - ETA: 1:09 - loss: 0.553 - ETA: 59s - loss: 0.553 - ETA: 49s - loss: 0.55 - ETA: 39s - loss: 0.55 - ETA: 29s - loss: 0.55 - ETA: 19s - loss: 0.55 - ETA: 9s - loss: 0.5520 - ETA: 0s - loss: 0.551 - 734s 14s/step - loss: 0.5519 - val_loss: 0.4867\n"
     ]
    },
    {
     "data": {
      "text/html": [
       "<span style=\"color:#4527A0\"><h1 style=\"font-size:18px\">Trial complete</h1></span>"
      ],
      "text/plain": [
       "<IPython.core.display.HTML object>"
      ]
     },
     "metadata": {},
     "output_type": "display_data"
    },
    {
     "data": {
      "text/html": [
       "<span style=\"color:#4527A0\"><h1 style=\"font-size:18px\">Trial summary</h1></span>"
      ],
      "text/plain": [
       "<IPython.core.display.HTML object>"
      ]
     },
     "metadata": {},
     "output_type": "display_data"
    },
    {
     "data": {
      "text/html": [
       "<span style=\"color:cyan\"> |-Trial ID: 911b3b98c42305d250d9ff89c56e4adb</span>"
      ],
      "text/plain": [
       "<IPython.core.display.HTML object>"
      ]
     },
     "metadata": {},
     "output_type": "display_data"
    },
    {
     "data": {
      "text/html": [
       "<span style=\"color:cyan\"> |-Score: 0.4867405891418457</span>"
      ],
      "text/plain": [
       "<IPython.core.display.HTML object>"
      ]
     },
     "metadata": {},
     "output_type": "display_data"
    },
    {
     "data": {
      "text/html": [
       "<span style=\"color:cyan\"> |-Best step: 0</span>"
      ],
      "text/plain": [
       "<IPython.core.display.HTML object>"
      ]
     },
     "metadata": {},
     "output_type": "display_data"
    },
    {
     "data": {
      "text/html": [
       "<span style=\"color:#7E57C2\"><h2 style=\"font-size:16px\">Hyperparameters:</h2></span>"
      ],
      "text/plain": [
       "<IPython.core.display.HTML object>"
      ]
     },
     "metadata": {},
     "output_type": "display_data"
    },
    {
     "data": {
      "text/html": [
       "<span style=\"color:cyan\"> |-dense_1_units: 64</span>"
      ],
      "text/plain": [
       "<IPython.core.display.HTML object>"
      ]
     },
     "metadata": {},
     "output_type": "display_data"
    },
    {
     "data": {
      "text/html": [
       "<span style=\"color:blue\"> |-graph_lstm_units: 256</span>"
      ],
      "text/plain": [
       "<IPython.core.display.HTML object>"
      ]
     },
     "metadata": {},
     "output_type": "display_data"
    },
    {
     "data": {
      "text/html": [
       "<span style=\"color:cyan\"> |-lstm_1_units: 224</span>"
      ],
      "text/plain": [
       "<IPython.core.display.HTML object>"
      ]
     },
     "metadata": {},
     "output_type": "display_data"
    },
    {
     "data": {
      "text/html": [
       "<span style=\"color:blue\"> |-lstm_2_units: 192</span>"
      ],
      "text/plain": [
       "<IPython.core.display.HTML object>"
      ]
     },
     "metadata": {},
     "output_type": "display_data"
    },
    {
     "data": {
      "text/html": [
       "<span style=\"color:cyan\"> |-neighbourhood_size: 60</span>"
      ],
      "text/plain": [
       "<IPython.core.display.HTML object>"
      ]
     },
     "metadata": {},
     "output_type": "display_data"
    },
    {
     "data": {
      "text/html": [
       "<span style=\"color:blue\"> |-tuner/bracket: 1</span>"
      ],
      "text/plain": [
       "<IPython.core.display.HTML object>"
      ]
     },
     "metadata": {},
     "output_type": "display_data"
    },
    {
     "data": {
      "text/html": [
       "<span style=\"color:cyan\"> |-tuner/epochs: 1</span>"
      ],
      "text/plain": [
       "<IPython.core.display.HTML object>"
      ]
     },
     "metadata": {},
     "output_type": "display_data"
    },
    {
     "data": {
      "text/html": [
       "<span style=\"color:blue\"> |-tuner/initial_epoch: 0</span>"
      ],
      "text/plain": [
       "<IPython.core.display.HTML object>"
      ]
     },
     "metadata": {},
     "output_type": "display_data"
    },
    {
     "data": {
      "text/html": [
       "<span style=\"color:cyan\"> |-tuner/round: 0</span>"
      ],
      "text/plain": [
       "<IPython.core.display.HTML object>"
      ]
     },
     "metadata": {},
     "output_type": "display_data"
    },
    {
     "name": "stdout",
     "output_type": "stream",
     "text": [
      "Epoch 2/3\n",
      "53/53 [==============================] - ETA: 0s - loss: 0.797 - ETA: 4:15 - loss: 1.225 - ETA: 5:35 - loss: 1.037 - ETA: 6:16 - loss: 0.959 - ETA: 6:40 - loss: 0.897 - ETA: 6:46 - loss: 0.856 - ETA: 6:47 - loss: 0.824 - ETA: 6:45 - loss: 0.803 - ETA: 6:41 - loss: 0.781 - ETA: 6:37 - loss: 0.760 - ETA: 6:32 - loss: 0.740 - ETA: 6:26 - loss: 0.722 - ETA: 6:18 - loss: 0.712 - ETA: 6:10 - loss: 0.704 - ETA: 6:02 - loss: 0.695 - ETA: 5:54 - loss: 0.684 - ETA: 5:46 - loss: 0.670 - ETA: 5:37 - loss: 0.657 - ETA: 5:28 - loss: 0.655 - ETA: 5:19 - loss: 0.646 - ETA: 5:10 - loss: 0.636 - ETA: 5:01 - loss: 0.636 - ETA: 4:52 - loss: 0.629 - ETA: 4:42 - loss: 0.626 - ETA: 4:33 - loss: 0.623 - ETA: 4:23 - loss: 0.619 - ETA: 4:14 - loss: 0.618 - ETA: 4:04 - loss: 0.611 - ETA: 3:55 - loss: 0.608 - ETA: 3:45 - loss: 0.605 - ETA: 3:35 - loss: 0.600 - ETA: 3:26 - loss: 0.594 - ETA: 3:16 - loss: 0.593 - ETA: 3:06 - loss: 0.592 - ETA: 2:56 - loss: 0.591 - ETA: 2:47 - loss: 0.587 - ETA: 2:37 - loss: 0.588 - ETA: 2:27 - loss: 0.589 - ETA: 2:17 - loss: 0.585 - ETA: 2:08 - loss: 0.587 - ETA: 1:58 - loss: 0.583 - ETA: 1:48 - loss: 0.580 - ETA: 1:39 - loss: 0.580 - ETA: 1:29 - loss: 0.576 - ETA: 1:19 - loss: 0.575 - ETA: 1:09 - loss: 0.578 - ETA: 59s - loss: 0.576 - ETA: 49s - loss: 0.57 - ETA: 39s - loss: 0.57 - ETA: 29s - loss: 0.57 - ETA: 19s - loss: 0.57 - ETA: 9s - loss: 0.5694 - ETA: 0s - loss: 0.567 - 735s 14s/step - loss: 0.5675 - val_loss: 0.4996\n",
      "Epoch 3/3\n",
      "53/53 [==============================] - ETA: 0s - loss: 0.438 - ETA: 4:21 - loss: 0.476 - ETA: 5:40 - loss: 0.449 - ETA: 6:12 - loss: 0.433 - ETA: 6:29 - loss: 0.441 - ETA: 6:37 - loss: 0.445 - ETA: 6:40 - loss: 0.456 - ETA: 6:38 - loss: 0.469 - ETA: 6:35 - loss: 0.469 - ETA: 6:31 - loss: 0.462 - ETA: 6:27 - loss: 0.473 - ETA: 6:20 - loss: 0.471 - ETA: 6:14 - loss: 0.466 - ETA: 6:07 - loss: 0.466 - ETA: 6:00 - loss: 0.466 - ETA: 5:52 - loss: 0.477 - ETA: 5:44 - loss: 0.494 - ETA: 5:35 - loss: 0.488 - ETA: 5:27 - loss: 0.493 - ETA: 5:17 - loss: 0.491 - ETA: 5:09 - loss: 0.495 - ETA: 5:00 - loss: 0.494 - ETA: 4:51 - loss: 0.492 - ETA: 4:42 - loss: 0.486 - ETA: 4:32 - loss: 0.490 - ETA: 4:23 - loss: 0.489 - ETA: 4:14 - loss: 0.486 - ETA: 4:05 - loss: 0.489 - ETA: 3:56 - loss: 0.492 - ETA: 3:46 - loss: 0.490 - ETA: 3:36 - loss: 0.492 - ETA: 3:26 - loss: 0.489 - ETA: 3:16 - loss: 0.491 - ETA: 3:07 - loss: 0.493 - ETA: 2:57 - loss: 0.497 - ETA: 2:47 - loss: 0.495 - ETA: 2:37 - loss: 0.492 - ETA: 2:27 - loss: 0.491 - ETA: 2:18 - loss: 0.488 - ETA: 2:08 - loss: 0.486 - ETA: 1:58 - loss: 0.484 - ETA: 1:48 - loss: 0.482 - ETA: 1:38 - loss: 0.481 - ETA: 1:28 - loss: 0.484 - ETA: 1:18 - loss: 0.481 - ETA: 1:09 - loss: 0.482 - ETA: 59s - loss: 0.483 - ETA: 49s - loss: 0.48 - ETA: 39s - loss: 0.48 - ETA: 29s - loss: 0.48 - ETA: 19s - loss: 0.48 - ETA: 9s - loss: 0.4856 - ETA: 0s - loss: 0.484 - 727s 14s/step - loss: 0.4842 - val_loss: 0.4812\n"
     ]
    },
    {
     "data": {
      "text/html": [
       "<span style=\"color:#4527A0\"><h1 style=\"font-size:18px\">Trial complete</h1></span>"
      ],
      "text/plain": [
       "<IPython.core.display.HTML object>"
      ]
     },
     "metadata": {},
     "output_type": "display_data"
    },
    {
     "data": {
      "text/html": [
       "<span style=\"color:#4527A0\"><h1 style=\"font-size:18px\">Trial summary</h1></span>"
      ],
      "text/plain": [
       "<IPython.core.display.HTML object>"
      ]
     },
     "metadata": {},
     "output_type": "display_data"
    },
    {
     "data": {
      "text/html": [
       "<span style=\"color:cyan\"> |-Trial ID: 810fcf0015361b1d23f340afb31e2e65</span>"
      ],
      "text/plain": [
       "<IPython.core.display.HTML object>"
      ]
     },
     "metadata": {},
     "output_type": "display_data"
    },
    {
     "data": {
      "text/html": [
       "<span style=\"color:cyan\"> |-Score: 0.48123401403427124</span>"
      ],
      "text/plain": [
       "<IPython.core.display.HTML object>"
      ]
     },
     "metadata": {},
     "output_type": "display_data"
    },
    {
     "data": {
      "text/html": [
       "<span style=\"color:cyan\"> |-Best step: 0</span>"
      ],
      "text/plain": [
       "<IPython.core.display.HTML object>"
      ]
     },
     "metadata": {},
     "output_type": "display_data"
    },
    {
     "data": {
      "text/html": [
       "<span style=\"color:#7E57C2\"><h2 style=\"font-size:16px\">Hyperparameters:</h2></span>"
      ],
      "text/plain": [
       "<IPython.core.display.HTML object>"
      ]
     },
     "metadata": {},
     "output_type": "display_data"
    },
    {
     "data": {
      "text/html": [
       "<span style=\"color:cyan\"> |-dense_1_units: 64</span>"
      ],
      "text/plain": [
       "<IPython.core.display.HTML object>"
      ]
     },
     "metadata": {},
     "output_type": "display_data"
    },
    {
     "data": {
      "text/html": [
       "<span style=\"color:blue\"> |-graph_lstm_units: 256</span>"
      ],
      "text/plain": [
       "<IPython.core.display.HTML object>"
      ]
     },
     "metadata": {},
     "output_type": "display_data"
    },
    {
     "data": {
      "text/html": [
       "<span style=\"color:cyan\"> |-lstm_1_units: 224</span>"
      ],
      "text/plain": [
       "<IPython.core.display.HTML object>"
      ]
     },
     "metadata": {},
     "output_type": "display_data"
    },
    {
     "data": {
      "text/html": [
       "<span style=\"color:blue\"> |-lstm_2_units: 192</span>"
      ],
      "text/plain": [
       "<IPython.core.display.HTML object>"
      ]
     },
     "metadata": {},
     "output_type": "display_data"
    },
    {
     "data": {
      "text/html": [
       "<span style=\"color:cyan\"> |-neighbourhood_size: 60</span>"
      ],
      "text/plain": [
       "<IPython.core.display.HTML object>"
      ]
     },
     "metadata": {},
     "output_type": "display_data"
    },
    {
     "data": {
      "text/html": [
       "<span style=\"color:blue\"> |-tuner/bracket: 1</span>"
      ],
      "text/plain": [
       "<IPython.core.display.HTML object>"
      ]
     },
     "metadata": {},
     "output_type": "display_data"
    },
    {
     "data": {
      "text/html": [
       "<span style=\"color:cyan\"> |-tuner/epochs: 3</span>"
      ],
      "text/plain": [
       "<IPython.core.display.HTML object>"
      ]
     },
     "metadata": {},
     "output_type": "display_data"
    },
    {
     "data": {
      "text/html": [
       "<span style=\"color:blue\"> |-tuner/initial_epoch: 1</span>"
      ],
      "text/plain": [
       "<IPython.core.display.HTML object>"
      ]
     },
     "metadata": {},
     "output_type": "display_data"
    },
    {
     "data": {
      "text/html": [
       "<span style=\"color:cyan\"> |-tuner/round: 1</span>"
      ],
      "text/plain": [
       "<IPython.core.display.HTML object>"
      ]
     },
     "metadata": {},
     "output_type": "display_data"
    },
    {
     "data": {
      "text/html": [
       "<span style=\"color:blue\"> |-tuner/trial_id: 911b3b98c42305d250d9ff89c56e4adb</span>"
      ],
      "text/plain": [
       "<IPython.core.display.HTML object>"
      ]
     },
     "metadata": {},
     "output_type": "display_data"
    },
    {
     "name": "stdout",
     "output_type": "stream",
     "text": [
      "Epoch 1/3\n",
      "53/53 [==============================] - ETA: 0s - loss: 0.757 - ETA: 1:08 - loss: 0.717 - ETA: 1:27 - loss: 0.657 - ETA: 1:37 - loss: 0.634 - ETA: 1:41 - loss: 0.600 - ETA: 1:44 - loss: 0.636 - ETA: 1:45 - loss: 0.630 - ETA: 1:44 - loss: 0.607 - ETA: 1:44 - loss: 0.596 - ETA: 1:43 - loss: 0.584 - ETA: 1:41 - loss: 0.596 - ETA: 1:38 - loss: 0.614 - ETA: 1:36 - loss: 0.608 - ETA: 1:34 - loss: 0.607 - ETA: 1:32 - loss: 0.598 - ETA: 1:30 - loss: 0.596 - ETA: 1:28 - loss: 0.599 - ETA: 1:26 - loss: 0.599 - ETA: 1:24 - loss: 0.588 - ETA: 1:22 - loss: 0.588 - ETA: 1:19 - loss: 0.585 - ETA: 1:17 - loss: 0.583 - ETA: 1:14 - loss: 0.577 - ETA: 1:12 - loss: 0.575 - ETA: 1:09 - loss: 0.572 - ETA: 1:07 - loss: 0.566 - ETA: 1:05 - loss: 0.564 - ETA: 1:02 - loss: 0.563 - ETA: 1:00 - loss: 0.561 - ETA: 57s - loss: 0.559 - ETA: 55s - loss: 0.55 - ETA: 52s - loss: 0.55 - ETA: 50s - loss: 0.54 - ETA: 47s - loss: 0.54 - ETA: 45s - loss: 0.54 - ETA: 42s - loss: 0.54 - ETA: 40s - loss: 0.54 - ETA: 37s - loss: 0.54 - ETA: 35s - loss: 0.54 - ETA: 32s - loss: 0.54 - ETA: 30s - loss: 0.53 - ETA: 27s - loss: 0.53 - ETA: 25s - loss: 0.53 - ETA: 22s - loss: 0.53 - ETA: 20s - loss: 0.53 - ETA: 17s - loss: 0.53 - ETA: 15s - loss: 0.53 - ETA: 12s - loss: 0.53 - ETA: 10s - loss: 0.53 - ETA: 7s - loss: 0.5325 - ETA: 5s - loss: 0.532 - ETA: 2s - loss: 0.532 - ETA: 0s - loss: 0.531 - 173s 3s/step - loss: 0.5314 - val_loss: 0.5206\n",
      "Epoch 2/3\n",
      "53/53 [==============================] - ETA: 0s - loss: 0.370 - ETA: 1:01 - loss: 0.416 - ETA: 1:21 - loss: 0.408 - ETA: 1:32 - loss: 0.440 - ETA: 1:36 - loss: 0.448 - ETA: 1:38 - loss: 0.440 - ETA: 1:39 - loss: 0.495 - ETA: 1:40 - loss: 0.500 - ETA: 1:40 - loss: 0.496 - ETA: 1:39 - loss: 0.499 - ETA: 1:37 - loss: 0.491 - ETA: 1:36 - loss: 0.492 - ETA: 1:34 - loss: 0.488 - ETA: 1:32 - loss: 0.488 - ETA: 1:30 - loss: 0.498 - ETA: 1:28 - loss: 0.497 - ETA: 1:26 - loss: 0.488 - ETA: 1:24 - loss: 0.489 - ETA: 1:22 - loss: 0.498 - ETA: 1:20 - loss: 0.500 - ETA: 1:17 - loss: 0.494 - ETA: 1:15 - loss: 0.491 - ETA: 1:13 - loss: 0.489 - ETA: 1:11 - loss: 0.487 - ETA: 1:09 - loss: 0.489 - ETA: 1:06 - loss: 0.485 - ETA: 1:04 - loss: 0.484 - ETA: 1:01 - loss: 0.484 - ETA: 59s - loss: 0.481 - ETA: 56s - loss: 0.48 - ETA: 54s - loss: 0.48 - ETA: 51s - loss: 0.48 - ETA: 49s - loss: 0.49 - ETA: 47s - loss: 0.48 - ETA: 44s - loss: 0.48 - ETA: 42s - loss: 0.48 - ETA: 39s - loss: 0.48 - ETA: 37s - loss: 0.48 - ETA: 34s - loss: 0.47 - ETA: 32s - loss: 0.47 - ETA: 30s - loss: 0.47 - ETA: 27s - loss: 0.48 - ETA: 25s - loss: 0.48 - ETA: 22s - loss: 0.48 - ETA: 20s - loss: 0.48 - ETA: 17s - loss: 0.49 - ETA: 15s - loss: 0.48 - ETA: 12s - loss: 0.48 - ETA: 10s - loss: 0.48 - ETA: 7s - loss: 0.4855 - ETA: 5s - loss: 0.485 - ETA: 2s - loss: 0.484 - ETA: 0s - loss: 0.483 - 169s 3s/step - loss: 0.4837 - val_loss: 0.4842\n",
      "Epoch 3/3\n",
      "53/53 [==============================] - ETA: 0s - loss: 0.488 - ETA: 1:08 - loss: 0.525 - ETA: 1:26 - loss: 0.476 - ETA: 1:34 - loss: 0.492 - ETA: 1:39 - loss: 0.492 - ETA: 1:41 - loss: 0.493 - ETA: 1:41 - loss: 0.477 - ETA: 1:41 - loss: 0.464 - ETA: 1:40 - loss: 0.464 - ETA: 1:40 - loss: 0.456 - ETA: 1:38 - loss: 0.449 - ETA: 1:37 - loss: 0.451 - ETA: 1:35 - loss: 0.444 - ETA: 1:33 - loss: 0.445 - ETA: 1:31 - loss: 0.452 - ETA: 1:29 - loss: 0.462 - ETA: 1:27 - loss: 0.459 - ETA: 1:25 - loss: 0.463 - ETA: 1:22 - loss: 0.463 - ETA: 1:20 - loss: 0.473 - ETA: 1:18 - loss: 0.480 - ETA: 1:16 - loss: 0.481 - ETA: 1:14 - loss: 0.480 - ETA: 1:11 - loss: 0.480 - ETA: 1:09 - loss: 0.478 - ETA: 1:07 - loss: 0.479 - ETA: 1:04 - loss: 0.481 - ETA: 1:02 - loss: 0.481 - ETA: 1:00 - loss: 0.478 - ETA: 57s - loss: 0.474 - ETA: 55s - loss: 0.47 - ETA: 53s - loss: 0.46 - ETA: 50s - loss: 0.46 - ETA: 48s - loss: 0.46 - ETA: 45s - loss: 0.45 - ETA: 43s - loss: 0.45 - ETA: 40s - loss: 0.46 - ETA: 38s - loss: 0.46 - ETA: 35s - loss: 0.46 - ETA: 33s - loss: 0.46 - ETA: 30s - loss: 0.46 - ETA: 28s - loss: 0.46 - ETA: 25s - loss: 0.45 - ETA: 22s - loss: 0.46 - ETA: 20s - loss: 0.45 - ETA: 17s - loss: 0.45 - ETA: 15s - loss: 0.45 - ETA: 12s - loss: 0.45 - ETA: 10s - loss: 0.45 - ETA: 7s - loss: 0.4605 - ETA: 5s - loss: 0.463 - ETA: 2s - loss: 0.460 - ETA: 0s - loss: 0.461 - 172s 3s/step - loss: 0.4614 - val_loss: 0.4576\n"
     ]
    },
    {
     "data": {
      "text/html": [
       "<span style=\"color:#4527A0\"><h1 style=\"font-size:18px\">Trial complete</h1></span>"
      ],
      "text/plain": [
       "<IPython.core.display.HTML object>"
      ]
     },
     "metadata": {},
     "output_type": "display_data"
    },
    {
     "data": {
      "text/html": [
       "<span style=\"color:#4527A0\"><h1 style=\"font-size:18px\">Trial summary</h1></span>"
      ],
      "text/plain": [
       "<IPython.core.display.HTML object>"
      ]
     },
     "metadata": {},
     "output_type": "display_data"
    },
    {
     "data": {
      "text/html": [
       "<span style=\"color:cyan\"> |-Trial ID: 0fac03361345e85bbb52bdd9cf9dfb2a</span>"
      ],
      "text/plain": [
       "<IPython.core.display.HTML object>"
      ]
     },
     "metadata": {},
     "output_type": "display_data"
    },
    {
     "data": {
      "text/html": [
       "<span style=\"color:cyan\"> |-Score: 0.4575958251953125</span>"
      ],
      "text/plain": [
       "<IPython.core.display.HTML object>"
      ]
     },
     "metadata": {},
     "output_type": "display_data"
    },
    {
     "data": {
      "text/html": [
       "<span style=\"color:cyan\"> |-Best step: 0</span>"
      ],
      "text/plain": [
       "<IPython.core.display.HTML object>"
      ]
     },
     "metadata": {},
     "output_type": "display_data"
    },
    {
     "data": {
      "text/html": [
       "<span style=\"color:#7E57C2\"><h2 style=\"font-size:16px\">Hyperparameters:</h2></span>"
      ],
      "text/plain": [
       "<IPython.core.display.HTML object>"
      ]
     },
     "metadata": {},
     "output_type": "display_data"
    },
    {
     "data": {
      "text/html": [
       "<span style=\"color:cyan\"> |-dense_1_units: 128</span>"
      ],
      "text/plain": [
       "<IPython.core.display.HTML object>"
      ]
     },
     "metadata": {},
     "output_type": "display_data"
    },
    {
     "data": {
      "text/html": [
       "<span style=\"color:blue\"> |-graph_lstm_units: 128</span>"
      ],
      "text/plain": [
       "<IPython.core.display.HTML object>"
      ]
     },
     "metadata": {},
     "output_type": "display_data"
    },
    {
     "data": {
      "text/html": [
       "<span style=\"color:cyan\"> |-lstm_1_units: 96</span>"
      ],
      "text/plain": [
       "<IPython.core.display.HTML object>"
      ]
     },
     "metadata": {},
     "output_type": "display_data"
    },
    {
     "data": {
      "text/html": [
       "<span style=\"color:blue\"> |-lstm_2_units: 64</span>"
      ],
      "text/plain": [
       "<IPython.core.display.HTML object>"
      ]
     },
     "metadata": {},
     "output_type": "display_data"
    },
    {
     "data": {
      "text/html": [
       "<span style=\"color:cyan\"> |-neighbourhood_size: 25</span>"
      ],
      "text/plain": [
       "<IPython.core.display.HTML object>"
      ]
     },
     "metadata": {},
     "output_type": "display_data"
    },
    {
     "data": {
      "text/html": [
       "<span style=\"color:blue\"> |-tuner/bracket: 0</span>"
      ],
      "text/plain": [
       "<IPython.core.display.HTML object>"
      ]
     },
     "metadata": {},
     "output_type": "display_data"
    },
    {
     "data": {
      "text/html": [
       "<span style=\"color:cyan\"> |-tuner/epochs: 3</span>"
      ],
      "text/plain": [
       "<IPython.core.display.HTML object>"
      ]
     },
     "metadata": {},
     "output_type": "display_data"
    },
    {
     "data": {
      "text/html": [
       "<span style=\"color:blue\"> |-tuner/initial_epoch: 0</span>"
      ],
      "text/plain": [
       "<IPython.core.display.HTML object>"
      ]
     },
     "metadata": {},
     "output_type": "display_data"
    },
    {
     "data": {
      "text/html": [
       "<span style=\"color:cyan\"> |-tuner/round: 0</span>"
      ],
      "text/plain": [
       "<IPython.core.display.HTML object>"
      ]
     },
     "metadata": {},
     "output_type": "display_data"
    },
    {
     "name": "stdout",
     "output_type": "stream",
     "text": [
      "Epoch 1/3\n",
      "53/53 [==============================] - ETA: 0s - loss: 0.670 - ETA: 53s - loss: 0.75 - ETA: 1:08 - loss: 0.718 - ETA: 1:15 - loss: 0.693 - ETA: 1:18 - loss: 0.685 - ETA: 1:20 - loss: 0.666 - ETA: 1:21 - loss: 0.660 - ETA: 1:20 - loss: 0.652 - ETA: 1:20 - loss: 0.646 - ETA: 1:19 - loss: 0.638 - ETA: 1:18 - loss: 0.644 - ETA: 1:16 - loss: 0.648 - ETA: 1:15 - loss: 0.644 - ETA: 1:14 - loss: 0.632 - ETA: 1:12 - loss: 0.627 - ETA: 1:10 - loss: 0.625 - ETA: 1:09 - loss: 0.619 - ETA: 1:07 - loss: 0.609 - ETA: 1:05 - loss: 0.608 - ETA: 1:04 - loss: 0.605 - ETA: 1:02 - loss: 0.602 - ETA: 1:00 - loss: 0.598 - ETA: 58s - loss: 0.593 - ETA: 57s - loss: 0.59 - ETA: 55s - loss: 0.59 - ETA: 53s - loss: 0.58 - ETA: 51s - loss: 0.58 - ETA: 49s - loss: 0.58 - ETA: 47s - loss: 0.58 - ETA: 45s - loss: 0.58 - ETA: 43s - loss: 0.58 - ETA: 41s - loss: 0.58 - ETA: 39s - loss: 0.57 - ETA: 37s - loss: 0.57 - ETA: 35s - loss: 0.57 - ETA: 33s - loss: 0.56 - ETA: 32s - loss: 0.56 - ETA: 30s - loss: 0.55 - ETA: 28s - loss: 0.55 - ETA: 26s - loss: 0.55 - ETA: 24s - loss: 0.55 - ETA: 22s - loss: 0.56 - ETA: 20s - loss: 0.56 - ETA: 18s - loss: 0.55 - ETA: 16s - loss: 0.55 - ETA: 14s - loss: 0.55 - ETA: 12s - loss: 0.55 - ETA: 10s - loss: 0.55 - ETA: 8s - loss: 0.5545 - ETA: 6s - loss: 0.551 - ETA: 4s - loss: 0.548 - ETA: 2s - loss: 0.548 - ETA: 0s - loss: 0.548 - 134s 3s/step - loss: 0.5485 - val_loss: 0.4894\n",
      "Epoch 2/3\n",
      "53/53 [==============================] - ETA: 0s - loss: 0.527 - ETA: 51s - loss: 0.54 - ETA: 1:08 - loss: 0.501 - ETA: 1:15 - loss: 0.488 - ETA: 1:19 - loss: 0.487 - ETA: 1:21 - loss: 0.494 - ETA: 1:21 - loss: 0.504 - ETA: 1:21 - loss: 0.500 - ETA: 1:21 - loss: 0.489 - ETA: 1:20 - loss: 0.499 - ETA: 1:18 - loss: 0.494 - ETA: 1:17 - loss: 0.487 - ETA: 1:16 - loss: 0.486 - ETA: 1:14 - loss: 0.481 - ETA: 1:13 - loss: 0.483 - ETA: 1:11 - loss: 0.493 - ETA: 1:10 - loss: 0.488 - ETA: 1:08 - loss: 0.492 - ETA: 1:06 - loss: 0.489 - ETA: 1:04 - loss: 0.490 - ETA: 1:03 - loss: 0.488 - ETA: 1:01 - loss: 0.485 - ETA: 59s - loss: 0.489 - ETA: 57s - loss: 0.49 - ETA: 55s - loss: 0.49 - ETA: 53s - loss: 0.49 - ETA: 51s - loss: 0.49 - ETA: 49s - loss: 0.49 - ETA: 47s - loss: 0.49 - ETA: 46s - loss: 0.49 - ETA: 44s - loss: 0.48 - ETA: 42s - loss: 0.48 - ETA: 40s - loss: 0.48 - ETA: 38s - loss: 0.48 - ETA: 36s - loss: 0.48 - ETA: 34s - loss: 0.48 - ETA: 32s - loss: 0.48 - ETA: 30s - loss: 0.48 - ETA: 28s - loss: 0.48 - ETA: 26s - loss: 0.48 - ETA: 24s - loss: 0.48 - ETA: 22s - loss: 0.48 - ETA: 20s - loss: 0.48 - ETA: 18s - loss: 0.48 - ETA: 16s - loss: 0.48 - ETA: 14s - loss: 0.48 - ETA: 12s - loss: 0.48 - ETA: 10s - loss: 0.48 - ETA: 8s - loss: 0.4827 - ETA: 6s - loss: 0.482 - ETA: 4s - loss: 0.481 - ETA: 2s - loss: 0.479 - ETA: 0s - loss: 0.483 - 133s 3s/step - loss: 0.4830 - val_loss: 0.4535\n",
      "Epoch 3/3\n",
      "53/53 [==============================] - ETA: 0s - loss: 0.354 - ETA: 53s - loss: 0.34 - ETA: 1:08 - loss: 0.398 - ETA: 1:15 - loss: 0.418 - ETA: 1:18 - loss: 0.456 - ETA: 1:19 - loss: 0.456 - ETA: 1:20 - loss: 0.458 - ETA: 1:20 - loss: 0.452 - ETA: 1:20 - loss: 0.452 - ETA: 1:19 - loss: 0.442 - ETA: 1:18 - loss: 0.440 - ETA: 1:17 - loss: 0.444 - ETA: 1:16 - loss: 0.445 - ETA: 1:14 - loss: 0.442 - ETA: 1:12 - loss: 0.442 - ETA: 1:11 - loss: 0.439 - ETA: 1:09 - loss: 0.444 - ETA: 1:07 - loss: 0.447 - ETA: 1:06 - loss: 0.443 - ETA: 1:04 - loss: 0.441 - ETA: 1:02 - loss: 0.444 - ETA: 1:00 - loss: 0.442 - ETA: 58s - loss: 0.439 - ETA: 57s - loss: 0.43 - ETA: 55s - loss: 0.44 - ETA: 53s - loss: 0.43 - ETA: 51s - loss: 0.44 - ETA: 49s - loss: 0.43 - ETA: 47s - loss: 0.44 - ETA: 45s - loss: 0.45 - ETA: 43s - loss: 0.44 - ETA: 41s - loss: 0.44 - ETA: 40s - loss: 0.45 - ETA: 38s - loss: 0.44 - ETA: 36s - loss: 0.45 - ETA: 34s - loss: 0.45 - ETA: 32s - loss: 0.45 - ETA: 30s - loss: 0.45 - ETA: 28s - loss: 0.44 - ETA: 26s - loss: 0.44 - ETA: 24s - loss: 0.44 - ETA: 22s - loss: 0.44 - ETA: 20s - loss: 0.44 - ETA: 18s - loss: 0.44 - ETA: 16s - loss: 0.44 - ETA: 14s - loss: 0.44 - ETA: 12s - loss: 0.44 - ETA: 10s - loss: 0.45 - ETA: 8s - loss: 0.4533 - ETA: 6s - loss: 0.455 - ETA: 4s - loss: 0.453 - ETA: 2s - loss: 0.455 - ETA: 0s - loss: 0.454 - 133s 3s/step - loss: 0.4543 - val_loss: 0.4639\n"
     ]
    },
    {
     "data": {
      "text/html": [
       "<span style=\"color:#4527A0\"><h1 style=\"font-size:18px\">Trial complete</h1></span>"
      ],
      "text/plain": [
       "<IPython.core.display.HTML object>"
      ]
     },
     "metadata": {},
     "output_type": "display_data"
    },
    {
     "data": {
      "text/html": [
       "<span style=\"color:#4527A0\"><h1 style=\"font-size:18px\">Trial summary</h1></span>"
      ],
      "text/plain": [
       "<IPython.core.display.HTML object>"
      ]
     },
     "metadata": {},
     "output_type": "display_data"
    },
    {
     "data": {
      "text/html": [
       "<span style=\"color:cyan\"> |-Trial ID: a60c20d92a65b5d1a1fd1dcde89d9cf5</span>"
      ],
      "text/plain": [
       "<IPython.core.display.HTML object>"
      ]
     },
     "metadata": {},
     "output_type": "display_data"
    },
    {
     "data": {
      "text/html": [
       "<span style=\"color:cyan\"> |-Score: 0.45354127883911133</span>"
      ],
      "text/plain": [
       "<IPython.core.display.HTML object>"
      ]
     },
     "metadata": {},
     "output_type": "display_data"
    },
    {
     "data": {
      "text/html": [
       "<span style=\"color:cyan\"> |-Best step: 0</span>"
      ],
      "text/plain": [
       "<IPython.core.display.HTML object>"
      ]
     },
     "metadata": {},
     "output_type": "display_data"
    },
    {
     "data": {
      "text/html": [
       "<span style=\"color:#7E57C2\"><h2 style=\"font-size:16px\">Hyperparameters:</h2></span>"
      ],
      "text/plain": [
       "<IPython.core.display.HTML object>"
      ]
     },
     "metadata": {},
     "output_type": "display_data"
    },
    {
     "data": {
      "text/html": [
       "<span style=\"color:cyan\"> |-dense_1_units: 256</span>"
      ],
      "text/plain": [
       "<IPython.core.display.HTML object>"
      ]
     },
     "metadata": {},
     "output_type": "display_data"
    },
    {
     "data": {
      "text/html": [
       "<span style=\"color:blue\"> |-graph_lstm_units: 256</span>"
      ],
      "text/plain": [
       "<IPython.core.display.HTML object>"
      ]
     },
     "metadata": {},
     "output_type": "display_data"
    },
    {
     "data": {
      "text/html": [
       "<span style=\"color:cyan\"> |-lstm_1_units: 160</span>"
      ],
      "text/plain": [
       "<IPython.core.display.HTML object>"
      ]
     },
     "metadata": {},
     "output_type": "display_data"
    },
    {
     "data": {
      "text/html": [
       "<span style=\"color:blue\"> |-lstm_2_units: 32</span>"
      ],
      "text/plain": [
       "<IPython.core.display.HTML object>"
      ]
     },
     "metadata": {},
     "output_type": "display_data"
    },
    {
     "data": {
      "text/html": [
       "<span style=\"color:cyan\"> |-neighbourhood_size: 20</span>"
      ],
      "text/plain": [
       "<IPython.core.display.HTML object>"
      ]
     },
     "metadata": {},
     "output_type": "display_data"
    },
    {
     "data": {
      "text/html": [
       "<span style=\"color:blue\"> |-tuner/bracket: 0</span>"
      ],
      "text/plain": [
       "<IPython.core.display.HTML object>"
      ]
     },
     "metadata": {},
     "output_type": "display_data"
    },
    {
     "data": {
      "text/html": [
       "<span style=\"color:cyan\"> |-tuner/epochs: 3</span>"
      ],
      "text/plain": [
       "<IPython.core.display.HTML object>"
      ]
     },
     "metadata": {},
     "output_type": "display_data"
    },
    {
     "data": {
      "text/html": [
       "<span style=\"color:blue\"> |-tuner/initial_epoch: 0</span>"
      ],
      "text/plain": [
       "<IPython.core.display.HTML object>"
      ]
     },
     "metadata": {},
     "output_type": "display_data"
    },
    {
     "data": {
      "text/html": [
       "<span style=\"color:cyan\"> |-tuner/round: 0</span>"
      ],
      "text/plain": [
       "<IPython.core.display.HTML object>"
      ]
     },
     "metadata": {},
     "output_type": "display_data"
    },
    {
     "name": "stdout",
     "output_type": "stream",
     "text": [
      "INFO:tensorflow:Oracle triggered exit\n"
     ]
    }
   ],
   "source": [
    "tuner.search(subgraphed_train_ds.batch(BATCH_SIZE),\n",
    "             validation_data=subgraphed_valid_ds.batch(BATCH_SIZE),\n",
    "             epochs=10,\n",
    "             verbose=1,\n",
    "             shuffle=True)"
   ]
  },
  {
   "cell_type": "code",
   "execution_count": null,
   "metadata": {},
   "outputs": [],
   "source": []
  },
  {
   "cell_type": "markdown",
   "metadata": {},
   "source": [
    "### Training log"
   ]
  },
  {
   "cell_type": "code",
   "execution_count": 15,
   "metadata": {},
   "outputs": [
    {
     "data": {
      "text/plain": [
       "'/home/jan/kaggle_competitions/covid/models/model_2020_10_04__18_41_03'"
      ]
     },
     "execution_count": 15,
     "metadata": {},
     "output_type": "execute_result"
    }
   ],
   "source": [
    "model_path"
   ]
  },
  {
   "cell_type": "code",
   "execution_count": 16,
   "metadata": {},
   "outputs": [],
   "source": [
    "def save_training_log(max_RAM, training_platform='PC', model_path=model_path, neighbourhood_size=NEIGHBOURHOOD_SIZE, split_factor=SPLIT_FACTOR, epochs=EPOCHS, batch_size=BATCH_SIZE, train_loss=None, valid_loss=None, train_ds=None, valid_ds=None):\n",
    "    json_dict = {\n",
    "        \"training_platform\": \"PC\",\n",
    "        \"max_RAM\": max_RAM,\n",
    "        \"model_path\": model_path,\n",
    "        \"neighbourhood_size\": neighbourhood_size,\n",
    "        \"model_architecture\": inspect.getsource(create_model_for_subgraphed_dataset),\n",
    "        \"split_factor\": split_factor,\n",
    "        \"epochs\": epochs,\n",
    "        \"batch_size\": batch_size\n",
    "    }\n",
    "\n",
    "    if train_ds is not None:\n",
    "        json_dict['train_loss'] = model.evaluate(train_ds.batch(4096), verbose=0)\n",
    "    else:\n",
    "        json_dict['train_loss'] = train_loss\n",
    "      \n",
    "    \n",
    "    if valid_ds is not None:\n",
    "        json_dict['valid_loss'] = model.evaluate(valid_ds.batch(4096), verbose=0)\n",
    "    else:\n",
    "        json_dict['valid_loss'] = valid_loss\n",
    "    \n",
    "    with open(model_path + '_training_log.json', 'w') as fp:\n",
    "        json.dump(json_dict, fp)"
   ]
  },
  {
   "cell_type": "code",
   "execution_count": 20,
   "metadata": {},
   "outputs": [],
   "source": [
    "save_training_log(14, train_ds=subgraphed_train_ds, valid_ds=subgraphed_valid_ds, epochs=900)"
   ]
  },
  {
   "cell_type": "code",
   "execution_count": 44,
   "metadata": {},
   "outputs": [],
   "source": [
    "p = model.predict(subgraphed_valid_ds.batch(4096))"
   ]
  },
  {
   "cell_type": "markdown",
   "metadata": {},
   "source": [
    "# Create submission"
   ]
  },
  {
   "cell_type": "code",
   "execution_count": 17,
   "metadata": {},
   "outputs": [
    {
     "name": "stdout",
     "output_type": "stream",
     "text": [
      "CPU times: user 12.6 s, sys: 2.96 s, total: 15.6 s\n",
      "Wall time: 17.2 s\n"
     ]
    },
    {
     "data": {
      "text/html": [
       "<div>\n",
       "<style scoped>\n",
       "    .dataframe tbody tr th:only-of-type {\n",
       "        vertical-align: middle;\n",
       "    }\n",
       "\n",
       "    .dataframe tbody tr th {\n",
       "        vertical-align: top;\n",
       "    }\n",
       "\n",
       "    .dataframe thead th {\n",
       "        text-align: right;\n",
       "    }\n",
       "</style>\n",
       "<table border=\"1\" class=\"dataframe\">\n",
       "  <thead>\n",
       "    <tr style=\"text-align: right;\">\n",
       "      <th></th>\n",
       "      <th>id_seqpos</th>\n",
       "      <th>reactivity</th>\n",
       "      <th>deg_Mg_pH10</th>\n",
       "      <th>deg_pH10</th>\n",
       "      <th>deg_Mg_50C</th>\n",
       "      <th>deg_50C</th>\n",
       "    </tr>\n",
       "  </thead>\n",
       "  <tbody>\n",
       "    <tr>\n",
       "      <th>0</th>\n",
       "      <td>id_00073f8be_0</td>\n",
       "      <td>-0.040086</td>\n",
       "      <td>0.031532</td>\n",
       "      <td>0.0</td>\n",
       "      <td>0.062259</td>\n",
       "      <td>0.0</td>\n",
       "    </tr>\n",
       "    <tr>\n",
       "      <th>1</th>\n",
       "      <td>id_00073f8be_1</td>\n",
       "      <td>-0.032577</td>\n",
       "      <td>0.038012</td>\n",
       "      <td>0.0</td>\n",
       "      <td>0.074928</td>\n",
       "      <td>0.0</td>\n",
       "    </tr>\n",
       "    <tr>\n",
       "      <th>2</th>\n",
       "      <td>id_00073f8be_2</td>\n",
       "      <td>-0.023177</td>\n",
       "      <td>0.036372</td>\n",
       "      <td>0.0</td>\n",
       "      <td>0.081184</td>\n",
       "      <td>0.0</td>\n",
       "    </tr>\n",
       "    <tr>\n",
       "      <th>3</th>\n",
       "      <td>id_00073f8be_3</td>\n",
       "      <td>-0.017458</td>\n",
       "      <td>0.035141</td>\n",
       "      <td>0.0</td>\n",
       "      <td>0.083916</td>\n",
       "      <td>0.0</td>\n",
       "    </tr>\n",
       "    <tr>\n",
       "      <th>4</th>\n",
       "      <td>id_00073f8be_4</td>\n",
       "      <td>-0.016983</td>\n",
       "      <td>0.034016</td>\n",
       "      <td>0.0</td>\n",
       "      <td>0.083959</td>\n",
       "      <td>0.0</td>\n",
       "    </tr>\n",
       "    <tr>\n",
       "      <th>...</th>\n",
       "      <td>...</td>\n",
       "      <td>...</td>\n",
       "      <td>...</td>\n",
       "      <td>...</td>\n",
       "      <td>...</td>\n",
       "      <td>...</td>\n",
       "    </tr>\n",
       "    <tr>\n",
       "      <th>457948</th>\n",
       "      <td>id_ffda94f24_125</td>\n",
       "      <td>0.000000</td>\n",
       "      <td>0.000000</td>\n",
       "      <td>0.0</td>\n",
       "      <td>0.000000</td>\n",
       "      <td>0.0</td>\n",
       "    </tr>\n",
       "    <tr>\n",
       "      <th>457949</th>\n",
       "      <td>id_ffda94f24_126</td>\n",
       "      <td>0.000000</td>\n",
       "      <td>0.000000</td>\n",
       "      <td>0.0</td>\n",
       "      <td>0.000000</td>\n",
       "      <td>0.0</td>\n",
       "    </tr>\n",
       "    <tr>\n",
       "      <th>457950</th>\n",
       "      <td>id_ffda94f24_127</td>\n",
       "      <td>0.000000</td>\n",
       "      <td>0.000000</td>\n",
       "      <td>0.0</td>\n",
       "      <td>0.000000</td>\n",
       "      <td>0.0</td>\n",
       "    </tr>\n",
       "    <tr>\n",
       "      <th>457951</th>\n",
       "      <td>id_ffda94f24_128</td>\n",
       "      <td>0.000000</td>\n",
       "      <td>0.000000</td>\n",
       "      <td>0.0</td>\n",
       "      <td>0.000000</td>\n",
       "      <td>0.0</td>\n",
       "    </tr>\n",
       "    <tr>\n",
       "      <th>457952</th>\n",
       "      <td>id_ffda94f24_129</td>\n",
       "      <td>0.000000</td>\n",
       "      <td>0.000000</td>\n",
       "      <td>0.0</td>\n",
       "      <td>0.000000</td>\n",
       "      <td>0.0</td>\n",
       "    </tr>\n",
       "  </tbody>\n",
       "</table>\n",
       "<p>457953 rows × 6 columns</p>\n",
       "</div>"
      ],
      "text/plain": [
       "               id_seqpos  reactivity  deg_Mg_pH10  deg_pH10  deg_Mg_50C  \\\n",
       "0         id_00073f8be_0   -0.040086     0.031532       0.0    0.062259   \n",
       "1         id_00073f8be_1   -0.032577     0.038012       0.0    0.074928   \n",
       "2         id_00073f8be_2   -0.023177     0.036372       0.0    0.081184   \n",
       "3         id_00073f8be_3   -0.017458     0.035141       0.0    0.083916   \n",
       "4         id_00073f8be_4   -0.016983     0.034016       0.0    0.083959   \n",
       "...                  ...         ...          ...       ...         ...   \n",
       "457948  id_ffda94f24_125    0.000000     0.000000       0.0    0.000000   \n",
       "457949  id_ffda94f24_126    0.000000     0.000000       0.0    0.000000   \n",
       "457950  id_ffda94f24_127    0.000000     0.000000       0.0    0.000000   \n",
       "457951  id_ffda94f24_128    0.000000     0.000000       0.0    0.000000   \n",
       "457952  id_ffda94f24_129    0.000000     0.000000       0.0    0.000000   \n",
       "\n",
       "        deg_50C  \n",
       "0           0.0  \n",
       "1           0.0  \n",
       "2           0.0  \n",
       "3           0.0  \n",
       "4           0.0  \n",
       "...         ...  \n",
       "457948      0.0  \n",
       "457949      0.0  \n",
       "457950      0.0  \n",
       "457951      0.0  \n",
       "457952      0.0  \n",
       "\n",
       "[457953 rows x 6 columns]"
      ]
     },
     "execution_count": 17,
     "metadata": {},
     "output_type": "execute_result"
    }
   ],
   "source": [
    "%time submission = create_submission(model, [subgraphed_public_test_ds, subgraphed_private_test_ds], [raw_public_test_ds, raw_private_test_ds])\n",
    "submission"
   ]
  },
  {
   "cell_type": "code",
   "execution_count": 19,
   "metadata": {},
   "outputs": [],
   "source": [
    "submission_name = 'submission.csv'\n",
    "submissions_dir = os.path.join(os.getcwd(), 'submissions')\n",
    "submission_path = os.path.join(submissions_dir, submission_name)\n",
    "submission.to_csv(submission_path, header=True, index=False)"
   ]
  },
  {
   "cell_type": "markdown",
   "metadata": {},
   "source": [
    "# Model saving and loading"
   ]
  },
  {
   "cell_type": "code",
   "execution_count": 13,
   "metadata": {},
   "outputs": [],
   "source": [
    "model_file_name = 'model_2020_10_04__18_41_03'\n",
    "\n",
    "log_dir = os.path.join(os.getcwd(), 'logs')\n",
    "model_log_dir = os.path.join(log_dir, model_file_name)\n",
    "tensorboard_callback = tf.keras.callbacks.TensorBoard(log_dir=model_log_dir, histogram_freq=0, update_freq='epoch')\n",
    "\n",
    "models_path = os.path.join(os.getcwd(), 'models')\n",
    "model_path = os.path.join(models_path, model_file_name)\n",
    "model_checkpoint_callback = tf.keras.callbacks.ModelCheckpoint(filepath=model_path, moniotr='val_loss', verbose=1, save_best_only=True)"
   ]
  },
  {
   "cell_type": "code",
   "execution_count": 14,
   "metadata": {},
   "outputs": [
    {
     "data": {
      "text/plain": [
       "'/home/jan/kaggle_competitions/covid/models/model_2020_10_04__18_41_03'"
      ]
     },
     "execution_count": 14,
     "metadata": {},
     "output_type": "execute_result"
    }
   ],
   "source": [
    "model_path"
   ]
  },
  {
   "cell_type": "code",
   "execution_count": 15,
   "metadata": {},
   "outputs": [],
   "source": [
    "loaded_model = tf.keras.models.load_model(model_path, custom_objects={'mcrmse': mcrmse, 'GraphLSTMCell': GraphLSTMCell})"
   ]
  },
  {
   "cell_type": "code",
   "execution_count": 16,
   "metadata": {},
   "outputs": [
    {
     "name": "stderr",
     "output_type": "stream",
     "text": [
      "/home/jan/.local/share/virtualenvs/covid-EPTM6kfD/lib/python3.7/site-packages/tensorflow/python/keras/engine/functional.py:543: UserWarning: Input dict contained keys ['seq_scored'] which did not match any model input. They will be ignored by the model.\n",
      "  [n for n in tensors.keys() if n not in ref_input_names])\n"
     ]
    },
    {
     "name": "stdout",
     "output_type": "stream",
     "text": [
      "1/1 [==============================] - 0s 985us/step - loss: 0.1649\n"
     ]
    },
    {
     "data": {
      "text/plain": [
       "0.1648821234703064"
      ]
     },
     "execution_count": 16,
     "metadata": {},
     "output_type": "execute_result"
    }
   ],
   "source": [
    "loaded_model.evaluate(subgraphed_valid_ds.batch(4096))\n",
    "# model.evaluate(subgraphed_valid_ds.batch(4096))"
   ]
  },
  {
   "cell_type": "code",
   "execution_count": 30,
   "metadata": {},
   "outputs": [],
   "source": [
    "model = loaded_model"
   ]
  },
  {
   "cell_type": "code",
   "execution_count": 77,
   "metadata": {},
   "outputs": [
    {
     "name": "stdout",
     "output_type": "stream",
     "text": [
      "WARNING:tensorflow:Skipping full serialization of Keras layer <custom_layers.graph_lstm.GraphLSTMCell._GraphEmbedder object at 0x7fad77aa7050>, because it is not built.\n",
      "WARNING:tensorflow:Skipping full serialization of Keras layer <custom_layers.graph_lstm.GraphLSTMCell._GraphEmbedder object at 0x7fad77a1da90>, because it is not built.\n",
      "WARNING:tensorflow:Skipping full serialization of Keras layer <spektral.layers.convolutional.graph_attention.GraphAttention object at 0x7fad7c284c90>, because it is not built.\n",
      "WARNING:tensorflow:Skipping full serialization of Keras layer <spektral.layers.pooling.global_pool.GlobalAttentionPool object at 0x7fad77a3ef10>, because it is not built.\n",
      "WARNING:tensorflow:Skipping full serialization of Keras layer <spektral.layers.convolutional.graph_attention.GraphAttention object at 0x7fad779b5550>, because it is not built.\n",
      "WARNING:tensorflow:Skipping full serialization of Keras layer <spektral.layers.pooling.global_pool.GlobalAttentionPool object at 0x7fad779b5e50>, because it is not built.\n",
      "INFO:tensorflow:Assets written to: /home/jan/kaggle_competitions/covid/models/model_2020_10_04__18_41_03/assets\n"
     ]
    }
   ],
   "source": [
    "model.save(model_path)"
   ]
  },
  {
   "cell_type": "code",
   "execution_count": 79,
   "metadata": {},
   "outputs": [],
   "source": [
    "model_file_name = 'model_2020_10_04__14_42_56'\n",
    "models_path = os.path.join(os.getcwd(), 'models')\n",
    "model_path = os.path.join(models_path, model_file_name)\n",
    "loaded_model = tf.keras.models.load_model(model_path, custom_objects={'mcrmse': mcrmse, 'GraphLSTMCell': GraphLSTMCell})"
   ]
  },
  {
   "cell_type": "markdown",
   "metadata": {},
   "source": [
    "TODO:\n",
    "* cross-validation - more data to train\n",
    "* signal_to_noise parameter - maybe it can be used in some way\n",
    "* unsupervised pretraining"
   ]
  }
 ],
 "metadata": {
  "colab": {
   "collapsed_sections": [],
   "name": "Covid.ipynb",
   "provenance": [],
   "toc_visible": true
  },
  "kernelspec": {
   "display_name": "Python 3",
   "language": "python",
   "name": "python3"
  },
  "language_info": {
   "codemirror_mode": {
    "name": "ipython",
    "version": 3
   },
   "file_extension": ".py",
   "mimetype": "text/x-python",
   "name": "python",
   "nbconvert_exporter": "python",
   "pygments_lexer": "ipython3",
   "version": "3.7.5"
  }
 },
 "nbformat": 4,
 "nbformat_minor": 4
}
