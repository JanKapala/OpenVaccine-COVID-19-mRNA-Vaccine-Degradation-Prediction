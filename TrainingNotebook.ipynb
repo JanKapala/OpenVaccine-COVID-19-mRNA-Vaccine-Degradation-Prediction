{
 "cells": [
  {
   "cell_type": "markdown",
   "metadata": {},
   "source": [
    "# OpenVaccine: COVID-19 mRNA Vaccine Degradation Prediction"
   ]
  },
  {
   "cell_type": "markdown",
   "metadata": {},
   "source": [
    "[kaggle competition site](https://www.kaggle.com/c/stanford-covid-vaccine) "
   ]
  },
  {
   "cell_type": "markdown",
   "metadata": {},
   "source": [
    "Dataset description:\n",
    "- train set:                    2400 examples of length=107 and scoring_length=68\n",
    "- public test set:              629  examples of length=107 and scoring_length=68\n",
    "- private test set:             3005 examples of length=130 and scoring_length=91"
   ]
  },
  {
   "cell_type": "markdown",
   "metadata": {},
   "source": [
    "### TODO:\n",
    "- [X] no testing model, one model with different testing and training outputs\n",
    "- [ ] augmentation\n",
    "- [X] GCN\n",
    "- [X] sequence fragmentation and similarieties finding"
   ]
  },
  {
   "cell_type": "markdown",
   "metadata": {
    "colab_type": "text",
    "id": "lg-H7W3tbuL_"
   },
   "source": [
    "## Import section"
   ]
  },
  {
   "cell_type": "code",
   "execution_count": 1,
   "metadata": {
    "colab": {
     "base_uri": "https://localhost:8080/",
     "height": 71
    },
    "colab_type": "code",
    "id": "9wt4tcMcCbG-",
    "outputId": "597fa52a-cb7c-45ac-9bcc-7e372d06311a"
   },
   "outputs": [
    {
     "name": "stdout",
     "output_type": "stream",
     "text": [
      "CPU times: user 2.59 s, sys: 1.02 s, total: 3.6 s\n",
      "Wall time: 1.9 s\n"
     ]
    }
   ],
   "source": [
    "%%time\n",
    "import tensorflow as tf\n",
    "from tensorflow.keras import Model\n",
    "from tensorflow.keras.layers import LSTM, Dense, Input, TimeDistributed, Concatenate, Lambda, Bidirectional, Dropout, RNN\n",
    "from tensorflow.keras.regularizers import l2\n",
    "from tensorflow.keras.optimizers import Adam, SGD\n",
    "\n",
    "import spektral\n",
    "from spektral.layers import GraphConv, GraphAttention, GlobalAttentionPool\n",
    "\n",
    "import seaborn as sns\n",
    "import numpy as np\n",
    "import pandas as pd\n",
    "\n",
    "from data_preparation import *\n",
    "from visualization import *\n",
    "from custom_layers.subgraphing import Subgraphing\n",
    "from custom_layers.custom_lstm_cell import CustomLSTMCell\n",
    "from custom_layers.graph_lstm import GraphLSTM, GraphLSTMCell\n",
    "from custom_layers.graph_reduce_cell import GraphReduceCell\n",
    "from submissions.submit import *\n",
    "\n",
    "import time\n",
    "from datetime import datetime\n",
    "\n",
    "import inspect\n",
    "import json"
   ]
  },
  {
   "cell_type": "code",
   "execution_count": 2,
   "metadata": {},
   "outputs": [],
   "source": [
    "%load_ext tensorboard"
   ]
  },
  {
   "cell_type": "markdown",
   "metadata": {
    "colab_type": "text",
    "id": "Of4HAqm9byN7"
   },
   "source": [
    "# Data Loading"
   ]
  },
  {
   "cell_type": "code",
   "execution_count": 3,
   "metadata": {},
   "outputs": [],
   "source": [
    "# Dataset constants\n",
    "STACKED_FEATURES_SIZE = 14\n",
    "EDGES_FEATURES_MATRIX_DEPTH = 3\n",
    "NEIGHBOURHOOD_SIZE = 10"
   ]
  },
  {
   "cell_type": "code",
   "execution_count": 4,
   "metadata": {},
   "outputs": [
    {
     "name": "stdout",
     "output_type": "stream",
     "text": [
      "CPU times: user 2.46 s, sys: 785 ms, total: 3.24 s\n",
      "Wall time: 3.24 s\n"
     ]
    }
   ],
   "source": [
    "%time raw_train_valid_ds, raw_public_test_ds, raw_private_test_ds = get_raw_datasets()"
   ]
  },
  {
   "cell_type": "code",
   "execution_count": 5,
   "metadata": {},
   "outputs": [
    {
     "name": "stdout",
     "output_type": "stream",
     "text": [
      "CPU times: user 376 ms, sys: 196 ms, total: 573 ms\n",
      "Wall time: 612 ms\n"
     ]
    }
   ],
   "source": [
    "%time subgraphed_train_valid_ds, subgraphed_public_test_ds, subgraphed_private_test_ds = load_subgraphed_datasets(neighbourhood_size=NEIGHBOURHOOD_SIZE) "
   ]
  },
  {
   "cell_type": "markdown",
   "metadata": {
    "colab_type": "text",
    "id": "4on25QKcoANA"
   },
   "source": [
    "# Model"
   ]
  },
  {
   "cell_type": "markdown",
   "metadata": {},
   "source": [
    "### Definition"
   ]
  },
  {
   "cell_type": "code",
   "execution_count": 6,
   "metadata": {},
   "outputs": [],
   "source": [
    "def create_model_for_subgraphed_dataset(neighbourhood_size, stacked_features_size, edges_features_matrix_depth):\n",
    "    # Define inputs\n",
    "    sequence = Input(shape=(None, 4), name='sequence')\n",
    "    structure = Input(shape=(None, 3), name='structure')\n",
    "    loop_type = Input(shape=(None, 7), name='predicted_loop_type')\n",
    "    \n",
    "    not_subgraphed_inputs = (sequence, structure, loop_type)\n",
    "    \n",
    "    subgraphed_stacked_base_features = Input(shape=(None, neighbourhood_size, stacked_features_size), name='stacked_base_features')\n",
    "    subgraphed_adjacency_matrices = Input(shape=(None, neighbourhood_size, neighbourhood_size), name='adjacency_matrix')\n",
    "    subgraphed_edges_features_matrices = Input(shape=(None, neighbourhood_size, neighbourhood_size, edges_features_matrix_depth), name='edges_features_matrix')\n",
    "\n",
    "    subgraphed_inputs = (subgraphed_stacked_base_features, subgraphed_adjacency_matrices, subgraphed_edges_features_matrices)\n",
    "    \n",
    "    inputs = not_subgraphed_inputs + subgraphed_inputs\n",
    "    \n",
    "    # Main processing\n",
    "    x = Concatenate()(not_subgraphed_inputs)\n",
    "    seq = Bidirectional(LSTM(128, return_sequences=True))(x)\n",
    "    embedded_subgraphs_seq = Bidirectional(RNN(GraphLSTMCell(256), return_sequences=True))(subgraphed_inputs)\n",
    "    \n",
    "    x = Concatenate()([seq, embedded_subgraphs_seq])\n",
    "    \n",
    "    x = Bidirectional(LSTM(64, return_sequences=True))(x)\n",
    "    \n",
    "    x = TimeDistributed(Dense(512, activation='relu'))(x)\n",
    "    \n",
    "    # Define outputs\n",
    "    reactivity_pred = TimeDistributed(Dense(1), name='reactivity')(x)\n",
    "    deg_Mg_pH10_pred = TimeDistributed(Dense(1), name='deg_Mg_pH10')(x)\n",
    "    deg_Mg_50C_pred = TimeDistributed(Dense(1), name='deg_Mg_50C')(x)\n",
    "\n",
    "    scored_outputs = [reactivity_pred, deg_Mg_pH10_pred, deg_Mg_50C_pred]\n",
    "    outputs = Concatenate(axis=2, name='stacked_scored_labels')(scored_outputs)\n",
    "\n",
    "    model = Model(inputs=inputs, outputs=outputs)\n",
    "    \n",
    "    return model"
   ]
  },
  {
   "cell_type": "markdown",
   "metadata": {},
   "source": [
    "Submissions are scored using MCRMSE (mean columnwise root mean squared error):\n",
    "$\\textrm{MCRMSE} = \\frac{1}{N_{t}}\\sum_{j=1}^{N_{t}}\\sqrt{\\frac{1}{n} \\sum_{i=1}^{n} (y_{ij} - \\hat{y}_{ij})^2}$"
   ]
  },
  {
   "cell_type": "code",
   "execution_count": 7,
   "metadata": {
    "colab": {},
    "colab_type": "code",
    "id": "l5vdAIA3Davf"
   },
   "outputs": [],
   "source": [
    "def mcrmse(y_true, y_pred):\n",
    "    rmse = tf.sqrt(tf.reduce_mean(tf.square(y_true - y_pred), axis=1))\n",
    "    return tf.reduce_mean(rmse, axis=1)"
   ]
  },
  {
   "cell_type": "markdown",
   "metadata": {},
   "source": [
    "### Instantiation"
   ]
  },
  {
   "cell_type": "code",
   "execution_count": 8,
   "metadata": {},
   "outputs": [
    {
     "name": "stdout",
     "output_type": "stream",
     "text": [
      "WARNING:tensorflow:`period` argument is deprecated. Please use `save_freq` to specify the frequency in number of batches seen.\n"
     ]
    }
   ],
   "source": [
    "model = create_model_for_subgraphed_dataset(NEIGHBOURHOOD_SIZE, STACKED_FEATURES_SIZE, EDGES_FEATURES_MATRIX_DEPTH)\n",
    "\n",
    "log_dir = os.path.join(os.getcwd(), 'logs')\n",
    "model_name = datetime.now().strftime('model_%Y_%m_%d__%H_%M_%S')\n",
    "model_log_dir = os.path.join(log_dir, model_name)\n",
    "tensorboard_callback = tf.keras.callbacks.TensorBoard(log_dir=model_log_dir, histogram_freq=0, update_freq='epoch')\n",
    "\n",
    "model_file_name = model_name\n",
    "models_path = os.path.join(os.getcwd(), 'models')\n",
    "model_path = os.path.join(models_path, model_file_name)\n",
    "model_checkpoint_callback = tf.keras.callbacks.ModelCheckpoint(filepath=model_path, moniotr='val_loss', verbose=1, save_best_only=True, period=10)\n",
    "\n",
    "model.compile(loss=mcrmse,\n",
    "#               optimizer=tf.keras.optimizers.SGD(0.01, momentum=0.9),\n",
    "              optimizer='adam')"
   ]
  },
  {
   "cell_type": "code",
   "execution_count": 9,
   "metadata": {},
   "outputs": [
    {
     "data": {
      "text/plain": [
       "'/home/jan/kaggle_competitions/covid/models/model_2020_10_05__11_00_54'"
      ]
     },
     "execution_count": 9,
     "metadata": {},
     "output_type": "execute_result"
    }
   ],
   "source": [
    "model_path"
   ]
  },
  {
   "cell_type": "markdown",
   "metadata": {
    "colab": {},
    "colab_type": "code",
    "id": "aGKa7j6LDZxr"
   },
   "source": [
    "### Inspection"
   ]
  },
  {
   "cell_type": "code",
   "execution_count": 10,
   "metadata": {},
   "outputs": [
    {
     "data": {
      "image/png": "[encoded data removed]",
      "text/plain": [
       "<IPython.core.display.Image object>"
      ]
     },
     "execution_count": 10,
     "metadata": {},
     "output_type": "execute_result"
    }
   ],
   "source": [
    "tf.keras.utils.plot_model(model, show_shapes=True)"
   ]
  },
  {
   "cell_type": "code",
   "execution_count": 11,
   "metadata": {},
   "outputs": [
    {
     "name": "stdout",
     "output_type": "stream",
     "text": [
      "Model: \"functional_1\"\n",
      "__________________________________________________________________________________________________\n",
      "Layer (type)                    Output Shape         Param #     Connected to                     \n",
      "==================================================================================================\n",
      "sequence (InputLayer)           [(None, None, 4)]    0                                            \n",
      "__________________________________________________________________________________________________\n",
      "structure (InputLayer)          [(None, None, 3)]    0                                            \n",
      "__________________________________________________________________________________________________\n",
      "predicted_loop_type (InputLayer [(None, None, 7)]    0                                            \n",
      "__________________________________________________________________________________________________\n",
      "concatenate (Concatenate)       (None, None, 14)     0           sequence[0][0]                   \n",
      "                                                                 structure[0][0]                  \n",
      "                                                                 predicted_loop_type[0][0]        \n",
      "__________________________________________________________________________________________________\n",
      "stacked_base_features (InputLay [(None, None, 10, 14 0                                            \n",
      "__________________________________________________________________________________________________\n",
      "adjacency_matrix (InputLayer)   [(None, None, 10, 10 0                                            \n",
      "__________________________________________________________________________________________________\n",
      "edges_features_matrix (InputLay [(None, None, 10, 10 0                                            \n",
      "__________________________________________________________________________________________________\n",
      "bidirectional (Bidirectional)   (None, None, 256)    146432      concatenate[0][0]                \n",
      "__________________________________________________________________________________________________\n",
      "bidirectional_1 (Bidirectional) (None, None, 512)    1341952     stacked_base_features[0][0]      \n",
      "                                                                 adjacency_matrix[0][0]           \n",
      "                                                                 edges_features_matrix[0][0]      \n",
      "__________________________________________________________________________________________________\n",
      "concatenate_1 (Concatenate)     (None, None, 768)    0           bidirectional[0][0]              \n",
      "                                                                 bidirectional_1[0][0]            \n",
      "__________________________________________________________________________________________________\n",
      "bidirectional_2 (Bidirectional) (None, None, 128)    426496      concatenate_1[0][0]              \n",
      "__________________________________________________________________________________________________\n",
      "time_distributed (TimeDistribut (None, None, 512)    66048       bidirectional_2[0][0]            \n",
      "__________________________________________________________________________________________________\n",
      "reactivity (TimeDistributed)    (None, None, 1)      513         time_distributed[0][0]           \n",
      "__________________________________________________________________________________________________\n",
      "deg_Mg_pH10 (TimeDistributed)   (None, None, 1)      513         time_distributed[0][0]           \n",
      "__________________________________________________________________________________________________\n",
      "deg_Mg_50C (TimeDistributed)    (None, None, 1)      513         time_distributed[0][0]           \n",
      "__________________________________________________________________________________________________\n",
      "stacked_scored_labels (Concaten (None, None, 3)      0           reactivity[0][0]                 \n",
      "                                                                 deg_Mg_pH10[0][0]                \n",
      "                                                                 deg_Mg_50C[0][0]                 \n",
      "==================================================================================================\n",
      "Total params: 1,982,467\n",
      "Trainable params: 1,982,467\n",
      "Non-trainable params: 0\n",
      "__________________________________________________________________________________________________\n"
     ]
    }
   ],
   "source": [
    "model.summary()"
   ]
  },
  {
   "cell_type": "markdown",
   "metadata": {},
   "source": [
    "model.evaluate(subgraphed_valid_ds.batch(64))# Additional dataset preparations"
   ]
  },
  {
   "cell_type": "code",
   "execution_count": 12,
   "metadata": {},
   "outputs": [],
   "source": [
    "SPLIT_FACTOR = 0.3\n",
    "subgraphed_train_ds, subgraphed_valid_ds = split_into_train_and_valid(subgraphed_train_valid_ds, split_factor=SPLIT_FACTOR)"
   ]
  },
  {
   "cell_type": "markdown",
   "metadata": {},
   "source": [
    "### Baseline training and testing models evaluation"
   ]
  },
  {
   "cell_type": "code",
   "execution_count": 38,
   "metadata": {},
   "outputs": [
    {
     "name": "stderr",
     "output_type": "stream",
     "text": [
      "/home/jan/.local/share/virtualenvs/covid-EPTM6kfD/lib/python3.7/site-packages/tensorflow/python/keras/engine/functional.py:543: UserWarning: Input dict contained keys ['seq_scored'] which did not match any model input. They will be ignored by the model.\n",
      "  [n for n in tensors.keys() if n not in ref_input_names])\n"
     ]
    },
    {
     "name": "stdout",
     "output_type": "stream",
     "text": [
      "12/12 [==============================] - 2s 184ms/step - loss: 0.1631\n"
     ]
    },
    {
     "data": {
      "text/plain": [
       "0.16312193870544434"
      ]
     },
     "execution_count": 38,
     "metadata": {},
     "output_type": "execute_result"
    }
   ],
   "source": [
    "model.evaluate(subgraphed_valid_ds.batch(64))"
   ]
  },
  {
   "cell_type": "markdown",
   "metadata": {},
   "source": [
    "# Model training"
   ]
  },
  {
   "cell_type": "code",
   "execution_count": 8,
   "metadata": {},
   "outputs": [
    {
     "data": {
      "text/html": [
       "\n",
       "      <iframe id=\"tensorboard-frame-92dcec4c075d56b7\" width=\"100%\" height=\"800\" frameborder=\"0\">\n",
       "      </iframe>\n",
       "      <script>\n",
       "        (function() {\n",
       "          const frame = document.getElementById(\"tensorboard-frame-92dcec4c075d56b7\");\n",
       "          const url = new URL(\"/\", window.location);\n",
       "          const port = 6006;\n",
       "          if (port) {\n",
       "            url.port = port;\n",
       "          }\n",
       "          frame.src = url;\n",
       "        })();\n",
       "      </script>\n",
       "    "
      ],
      "text/plain": [
       "<IPython.core.display.HTML object>"
      ]
     },
     "metadata": {},
     "output_type": "display_data"
    }
   ],
   "source": [
    "%tensorboard --logdir $log_dir"
   ]
  },
  {
   "cell_type": "code",
   "execution_count": null,
   "metadata": {
    "colab": {
     "base_uri": "https://localhost:8080/",
     "height": 581
    },
    "colab_type": "code",
    "id": "NV4yKXcjLxdB",
    "outputId": "ae59b2ee-35b9-43a2-b3e4-934cf6e85ba8"
   },
   "outputs": [],
   "source": [
    "BATCH_SIZE = 128\n",
    "EPOCHS = 450\n",
    "history = model.fit(subgraphed_train_ds.batch(BATCH_SIZE),\n",
    "                    validation_data=subgraphed_valid_ds.batch(BATCH_SIZE),\n",
    "                    epochs=EPOCHS,\n",
    "                    initial_epoch=0,\n",
    "                    verbose=1,\n",
    "                    shuffle=True,\n",
    "                    callbacks=[tensorboard_callback, model_checkpoint_callback])"
   ]
  },
  {
   "cell_type": "markdown",
   "metadata": {},
   "source": [
    "### Training log"
   ]
  },
  {
   "cell_type": "code",
   "execution_count": 15,
   "metadata": {},
   "outputs": [
    {
     "data": {
      "text/plain": [
       "'/home/jan/kaggle_competitions/covid/models/model_2020_10_04__18_41_03'"
      ]
     },
     "execution_count": 15,
     "metadata": {},
     "output_type": "execute_result"
    }
   ],
   "source": [
    "model_path"
   ]
  },
  {
   "cell_type": "code",
   "execution_count": 16,
   "metadata": {},
   "outputs": [],
   "source": [
    "def save_training_log(max_RAM, training_platform='PC', model_path=model_path, neighbourhood_size=NEIGHBOURHOOD_SIZE, split_factor=SPLIT_FACTOR, epochs=EPOCHS, batch_size=BATCH_SIZE, train_loss=None, valid_loss=None, train_ds=None, valid_ds=None):\n",
    "    json_dict = {\n",
    "        \"training_platform\": \"PC\",\n",
    "        \"max_RAM\": max_RAM,\n",
    "        \"model_path\": model_path,\n",
    "        \"neighbourhood_size\": neighbourhood_size,\n",
    "        \"model_architecture\": inspect.getsource(create_model_for_subgraphed_dataset),\n",
    "        \"split_factor\": split_factor,\n",
    "        \"epochs\": epochs,\n",
    "        \"batch_size\": batch_size\n",
    "    }\n",
    "\n",
    "    if train_ds is not None:\n",
    "        json_dict['train_loss'] = model.evaluate(train_ds.batch(4096), verbose=0)\n",
    "    else:\n",
    "        json_dict['train_loss'] = train_loss\n",
    "      \n",
    "    \n",
    "    if valid_ds is not None:\n",
    "        json_dict['valid_loss'] = model.evaluate(valid_ds.batch(4096), verbose=0)\n",
    "    else:\n",
    "        json_dict['valid_loss'] = valid_loss\n",
    "    \n",
    "    with open(model_path + '_training_log.json', 'w') as fp:\n",
    "        json.dump(json_dict, fp)"
   ]
  },
  {
   "cell_type": "code",
   "execution_count": 20,
   "metadata": {},
   "outputs": [],
   "source": [
    "save_training_log(14, train_ds=subgraphed_train_ds, valid_ds=subgraphed_valid_ds, epochs=900)"
   ]
  },
  {
   "cell_type": "code",
   "execution_count": 44,
   "metadata": {},
   "outputs": [],
   "source": [
    "p = model.predict(subgraphed_valid_ds.batch(4096))"
   ]
  },
  {
   "cell_type": "markdown",
   "metadata": {},
   "source": [
    "# Create submission"
   ]
  },
  {
   "cell_type": "code",
   "execution_count": 17,
   "metadata": {},
   "outputs": [
    {
     "name": "stdout",
     "output_type": "stream",
     "text": [
      "CPU times: user 12.6 s, sys: 2.96 s, total: 15.6 s\n",
      "Wall time: 17.2 s\n"
     ]
    },
    {
     "data": {
      "text/html": [
       "<div>\n",
       "<style scoped>\n",
       "    .dataframe tbody tr th:only-of-type {\n",
       "        vertical-align: middle;\n",
       "    }\n",
       "\n",
       "    .dataframe tbody tr th {\n",
       "        vertical-align: top;\n",
       "    }\n",
       "\n",
       "    .dataframe thead th {\n",
       "        text-align: right;\n",
       "    }\n",
       "</style>\n",
       "<table border=\"1\" class=\"dataframe\">\n",
       "  <thead>\n",
       "    <tr style=\"text-align: right;\">\n",
       "      <th></th>\n",
       "      <th>id_seqpos</th>\n",
       "      <th>reactivity</th>\n",
       "      <th>deg_Mg_pH10</th>\n",
       "      <th>deg_pH10</th>\n",
       "      <th>deg_Mg_50C</th>\n",
       "      <th>deg_50C</th>\n",
       "    </tr>\n",
       "  </thead>\n",
       "  <tbody>\n",
       "    <tr>\n",
       "      <th>0</th>\n",
       "      <td>id_00073f8be_0</td>\n",
       "      <td>-0.040086</td>\n",
       "      <td>0.031532</td>\n",
       "      <td>0.0</td>\n",
       "      <td>0.062259</td>\n",
       "      <td>0.0</td>\n",
       "    </tr>\n",
       "    <tr>\n",
       "      <th>1</th>\n",
       "      <td>id_00073f8be_1</td>\n",
       "      <td>-0.032577</td>\n",
       "      <td>0.038012</td>\n",
       "      <td>0.0</td>\n",
       "      <td>0.074928</td>\n",
       "      <td>0.0</td>\n",
       "    </tr>\n",
       "    <tr>\n",
       "      <th>2</th>\n",
       "      <td>id_00073f8be_2</td>\n",
       "      <td>-0.023177</td>\n",
       "      <td>0.036372</td>\n",
       "      <td>0.0</td>\n",
       "      <td>0.081184</td>\n",
       "      <td>0.0</td>\n",
       "    </tr>\n",
       "    <tr>\n",
       "      <th>3</th>\n",
       "      <td>id_00073f8be_3</td>\n",
       "      <td>-0.017458</td>\n",
       "      <td>0.035141</td>\n",
       "      <td>0.0</td>\n",
       "      <td>0.083916</td>\n",
       "      <td>0.0</td>\n",
       "    </tr>\n",
       "    <tr>\n",
       "      <th>4</th>\n",
       "      <td>id_00073f8be_4</td>\n",
       "      <td>-0.016983</td>\n",
       "      <td>0.034016</td>\n",
       "      <td>0.0</td>\n",
       "      <td>0.083959</td>\n",
       "      <td>0.0</td>\n",
       "    </tr>\n",
       "    <tr>\n",
       "      <th>...</th>\n",
       "      <td>...</td>\n",
       "      <td>...</td>\n",
       "      <td>...</td>\n",
       "      <td>...</td>\n",
       "      <td>...</td>\n",
       "      <td>...</td>\n",
       "    </tr>\n",
       "    <tr>\n",
       "      <th>457948</th>\n",
       "      <td>id_ffda94f24_125</td>\n",
       "      <td>0.000000</td>\n",
       "      <td>0.000000</td>\n",
       "      <td>0.0</td>\n",
       "      <td>0.000000</td>\n",
       "      <td>0.0</td>\n",
       "    </tr>\n",
       "    <tr>\n",
       "      <th>457949</th>\n",
       "      <td>id_ffda94f24_126</td>\n",
       "      <td>0.000000</td>\n",
       "      <td>0.000000</td>\n",
       "      <td>0.0</td>\n",
       "      <td>0.000000</td>\n",
       "      <td>0.0</td>\n",
       "    </tr>\n",
       "    <tr>\n",
       "      <th>457950</th>\n",
       "      <td>id_ffda94f24_127</td>\n",
       "      <td>0.000000</td>\n",
       "      <td>0.000000</td>\n",
       "      <td>0.0</td>\n",
       "      <td>0.000000</td>\n",
       "      <td>0.0</td>\n",
       "    </tr>\n",
       "    <tr>\n",
       "      <th>457951</th>\n",
       "      <td>id_ffda94f24_128</td>\n",
       "      <td>0.000000</td>\n",
       "      <td>0.000000</td>\n",
       "      <td>0.0</td>\n",
       "      <td>0.000000</td>\n",
       "      <td>0.0</td>\n",
       "    </tr>\n",
       "    <tr>\n",
       "      <th>457952</th>\n",
       "      <td>id_ffda94f24_129</td>\n",
       "      <td>0.000000</td>\n",
       "      <td>0.000000</td>\n",
       "      <td>0.0</td>\n",
       "      <td>0.000000</td>\n",
       "      <td>0.0</td>\n",
       "    </tr>\n",
       "  </tbody>\n",
       "</table>\n",
       "<p>457953 rows × 6 columns</p>\n",
       "</div>"
      ],
      "text/plain": [
       "               id_seqpos  reactivity  deg_Mg_pH10  deg_pH10  deg_Mg_50C  \\\n",
       "0         id_00073f8be_0   -0.040086     0.031532       0.0    0.062259   \n",
       "1         id_00073f8be_1   -0.032577     0.038012       0.0    0.074928   \n",
       "2         id_00073f8be_2   -0.023177     0.036372       0.0    0.081184   \n",
       "3         id_00073f8be_3   -0.017458     0.035141       0.0    0.083916   \n",
       "4         id_00073f8be_4   -0.016983     0.034016       0.0    0.083959   \n",
       "...                  ...         ...          ...       ...         ...   \n",
       "457948  id_ffda94f24_125    0.000000     0.000000       0.0    0.000000   \n",
       "457949  id_ffda94f24_126    0.000000     0.000000       0.0    0.000000   \n",
       "457950  id_ffda94f24_127    0.000000     0.000000       0.0    0.000000   \n",
       "457951  id_ffda94f24_128    0.000000     0.000000       0.0    0.000000   \n",
       "457952  id_ffda94f24_129    0.000000     0.000000       0.0    0.000000   \n",
       "\n",
       "        deg_50C  \n",
       "0           0.0  \n",
       "1           0.0  \n",
       "2           0.0  \n",
       "3           0.0  \n",
       "4           0.0  \n",
       "...         ...  \n",
       "457948      0.0  \n",
       "457949      0.0  \n",
       "457950      0.0  \n",
       "457951      0.0  \n",
       "457952      0.0  \n",
       "\n",
       "[457953 rows x 6 columns]"
      ]
     },
     "execution_count": 17,
     "metadata": {},
     "output_type": "execute_result"
    }
   ],
   "source": [
    "%time submission = create_submission(model, [subgraphed_public_test_ds, subgraphed_private_test_ds], [raw_public_test_ds, raw_private_test_ds])\n",
    "submission"
   ]
  },
  {
   "cell_type": "code",
   "execution_count": 18,
   "metadata": {},
   "outputs": [],
   "source": [
    "submission_name = 'submission.csv'\n",
    "submissions_dir = os.path.join(os.getcwd(), 'submissions')\n",
    "submission_path = os.path.join(submissions_dir, submission_name)\n",
    "submission.to_csv(submission_path, header=True, index=False)"
   ]
  },
  {
   "cell_type": "markdown",
   "metadata": {},
   "source": [
    "# Model saving and loading"
   ]
  },
  {
   "cell_type": "code",
   "execution_count": 13,
   "metadata": {},
   "outputs": [],
   "source": [
    "model_file_name = 'model_2020_10_04__18_41_03'\n",
    "\n",
    "log_dir = os.path.join(os.getcwd(), 'logs')\n",
    "model_log_dir = os.path.join(log_dir, model_file_name)\n",
    "tensorboard_callback = tf.keras.callbacks.TensorBoard(log_dir=model_log_dir, histogram_freq=0, update_freq='epoch')\n",
    "\n",
    "models_path = os.path.join(os.getcwd(), 'models')\n",
    "model_path = os.path.join(models_path, model_file_name)\n",
    "model_checkpoint_callback = tf.keras.callbacks.ModelCheckpoint(filepath=model_path, moniotr='val_loss', verbose=1, save_best_only=True)"
   ]
  },
  {
   "cell_type": "code",
   "execution_count": 14,
   "metadata": {},
   "outputs": [
    {
     "data": {
      "text/plain": [
       "'/home/jan/kaggle_competitions/covid/models/model_2020_10_04__18_41_03'"
      ]
     },
     "execution_count": 14,
     "metadata": {},
     "output_type": "execute_result"
    }
   ],
   "source": [
    "model_path"
   ]
  },
  {
   "cell_type": "code",
   "execution_count": 15,
   "metadata": {},
   "outputs": [],
   "source": [
    "loaded_model = tf.keras.models.load_model(model_path, custom_objects={'mcrmse': mcrmse, 'GraphLSTMCell': GraphLSTMCell})"
   ]
  },
  {
   "cell_type": "code",
   "execution_count": 16,
   "metadata": {},
   "outputs": [
    {
     "name": "stderr",
     "output_type": "stream",
     "text": [
      "/home/jan/.local/share/virtualenvs/covid-EPTM6kfD/lib/python3.7/site-packages/tensorflow/python/keras/engine/functional.py:543: UserWarning: Input dict contained keys ['seq_scored'] which did not match any model input. They will be ignored by the model.\n",
      "  [n for n in tensors.keys() if n not in ref_input_names])\n"
     ]
    },
    {
     "name": "stdout",
     "output_type": "stream",
     "text": [
      "1/1 [==============================] - 0s 985us/step - loss: 0.1649\n"
     ]
    },
    {
     "data": {
      "text/plain": [
       "0.1648821234703064"
      ]
     },
     "execution_count": 16,
     "metadata": {},
     "output_type": "execute_result"
    }
   ],
   "source": [
    "loaded_model.evaluate(subgraphed_valid_ds.batch(4096))\n",
    "# model.evaluate(subgraphed_valid_ds.batch(4096))"
   ]
  },
  {
   "cell_type": "code",
   "execution_count": 30,
   "metadata": {},
   "outputs": [],
   "source": [
    "model = loaded_model"
   ]
  },
  {
   "cell_type": "code",
   "execution_count": 77,
   "metadata": {},
   "outputs": [
    {
     "name": "stdout",
     "output_type": "stream",
     "text": [
      "WARNING:tensorflow:Skipping full serialization of Keras layer <custom_layers.graph_lstm.GraphLSTMCell._GraphEmbedder object at 0x7fad77aa7050>, because it is not built.\n",
      "WARNING:tensorflow:Skipping full serialization of Keras layer <custom_layers.graph_lstm.GraphLSTMCell._GraphEmbedder object at 0x7fad77a1da90>, because it is not built.\n",
      "WARNING:tensorflow:Skipping full serialization of Keras layer <spektral.layers.convolutional.graph_attention.GraphAttention object at 0x7fad7c284c90>, because it is not built.\n",
      "WARNING:tensorflow:Skipping full serialization of Keras layer <spektral.layers.pooling.global_pool.GlobalAttentionPool object at 0x7fad77a3ef10>, because it is not built.\n",
      "WARNING:tensorflow:Skipping full serialization of Keras layer <spektral.layers.convolutional.graph_attention.GraphAttention object at 0x7fad779b5550>, because it is not built.\n",
      "WARNING:tensorflow:Skipping full serialization of Keras layer <spektral.layers.pooling.global_pool.GlobalAttentionPool object at 0x7fad779b5e50>, because it is not built.\n",
      "INFO:tensorflow:Assets written to: /home/jan/kaggle_competitions/covid/models/model_2020_10_04__18_41_03/assets\n"
     ]
    }
   ],
   "source": [
    "model.save(model_path)"
   ]
  },
  {
   "cell_type": "code",
   "execution_count": 79,
   "metadata": {},
   "outputs": [],
   "source": [
    "model_file_name = 'model_2020_10_04__14_42_56'\n",
    "models_path = os.path.join(os.getcwd(), 'models')\n",
    "model_path = os.path.join(models_path, model_file_name)\n",
    "loaded_model = tf.keras.models.load_model(model_path, custom_objects={'mcrmse': mcrmse, 'GraphLSTMCell': GraphLSTMCell})"
   ]
  },
  {
   "cell_type": "markdown",
   "metadata": {},
   "source": [
    "TODO:\n",
    "* cross-validation - more data to train\n",
    "* signal_to_noise parameter - maybe it can be used in some way\n",
    "* unsupervised pretraining"
   ]
  }
 ],
 "metadata": {
  "colab": {
   "collapsed_sections": [],
   "name": "Covid.ipynb",
   "provenance": [],
   "toc_visible": true
  },
  "kernelspec": {
   "display_name": "Python 3",
   "language": "python",
   "name": "python3"
  },
  "language_info": {
   "codemirror_mode": {
    "name": "ipython",
    "version": 3
   },
   "file_extension": ".py",
   "mimetype": "text/x-python",
   "name": "python",
   "nbconvert_exporter": "python",
   "pygments_lexer": "ipython3",
   "version": "3.7.5"
  }
 },
 "nbformat": 4,
 "nbformat_minor": 4
}
