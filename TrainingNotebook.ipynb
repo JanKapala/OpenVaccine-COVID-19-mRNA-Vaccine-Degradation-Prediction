{
 "cells": [
  {
   "cell_type": "markdown",
   "metadata": {},
   "source": [
    "# OpenVaccine: COVID-19 mRNA Vaccine Degradation Prediction"
   ]
  },
  {
   "cell_type": "markdown",
   "metadata": {},
   "source": [
    "[kaggle competition site](https://www.kaggle.com/c/stanford-covid-vaccine) "
   ]
  },
  {
   "cell_type": "markdown",
   "metadata": {},
   "source": [
    "Dataset description:\n",
    "- train set:                    2400 examples of length=107 and scoring_length=68\n",
    "- public test set:              629  examples of length=107 and scoring_length=68\n",
    "- private test set:             3005 examples of length=130 and scoring_length=91"
   ]
  },
  {
   "cell_type": "markdown",
   "metadata": {},
   "source": [
    "### TODO:\n",
    "- [X] no testing model, one model with different testing and training outputs\n",
    "- [ ] augmentation\n",
    "- [X] GCN\n",
    "- [X] sequence fragmentation and similarieties finding"
   ]
  },
  {
   "cell_type": "markdown",
   "metadata": {
    "colab_type": "text",
    "id": "lg-H7W3tbuL_"
   },
   "source": [
    "## Import section"
   ]
  },
  {
   "cell_type": "code",
   "execution_count": 1,
   "metadata": {
    "colab": {
     "base_uri": "https://localhost:8080/",
     "height": 71
    },
    "colab_type": "code",
    "id": "9wt4tcMcCbG-",
    "outputId": "597fa52a-cb7c-45ac-9bcc-7e372d06311a"
   },
   "outputs": [
    {
     "name": "stdout",
     "output_type": "stream",
     "text": [
      "CPU times: user 2.54 s, sys: 1.06 s, total: 3.59 s\n",
      "Wall time: 1.89 s\n"
     ]
    }
   ],
   "source": [
    "%%time\n",
    "import tensorflow as tf\n",
    "from tensorflow.keras import Model\n",
    "from tensorflow.keras.layers import LSTM, Dense, Input, TimeDistributed, Concatenate, Lambda, Bidirectional, Dropout, RNN\n",
    "from tensorflow.keras.regularizers import l2\n",
    "from tensorflow.keras.optimizers import Adam, SGD\n",
    "\n",
    "import spektral\n",
    "from spektral.layers import GraphConv, GraphAttention, GlobalAttentionPool\n",
    "\n",
    "import seaborn as sns\n",
    "import numpy as np\n",
    "import pandas as pd\n",
    "\n",
    "from data_preparation import *\n",
    "from visualization import *\n",
    "from custom_layers.subgraphing import Subgraphing\n",
    "from custom_layers.custom_lstm_cell import CustomLSTMCell\n",
    "from custom_layers.lstm_graph_reduce_cell import LSTMGraphReduceCell\n",
    "from custom_layers.graph_reduce_cell import GraphReduceCell\n",
    "from submissions.submit import *\n",
    "\n",
    "import time\n",
    "from datetime import datetime"
   ]
  },
  {
   "cell_type": "code",
   "execution_count": 2,
   "metadata": {},
   "outputs": [],
   "source": [
    "%load_ext tensorboard"
   ]
  },
  {
   "cell_type": "markdown",
   "metadata": {
    "colab_type": "text",
    "id": "Of4HAqm9byN7"
   },
   "source": [
    "# Data Loading"
   ]
  },
  {
   "cell_type": "code",
   "execution_count": 4,
   "metadata": {},
   "outputs": [],
   "source": [
    "# Dataset constants\n",
    "STACKED_FEATURES_SIZE = 14\n",
    "EDGES_FEATURES_MATRIX_DEPTH = 3\n",
    "NEIGHBOURHOOD_SIZE = 15"
   ]
  },
  {
   "cell_type": "code",
   "execution_count": 5,
   "metadata": {},
   "outputs": [
    {
     "name": "stdout",
     "output_type": "stream",
     "text": [
      "CPU times: user 2.5 s, sys: 736 ms, total: 3.23 s\n",
      "Wall time: 3.23 s\n"
     ]
    }
   ],
   "source": [
    "%time raw_train_valid_ds, raw_public_test_ds, raw_private_test_ds = get_raw_datasets()"
   ]
  },
  {
   "cell_type": "code",
   "execution_count": 6,
   "metadata": {},
   "outputs": [
    {
     "name": "stdout",
     "output_type": "stream",
     "text": [
      "CPU times: user 374 ms, sys: 207 ms, total: 582 ms\n",
      "Wall time: 627 ms\n"
     ]
    }
   ],
   "source": [
    "%time subgraphed_train_valid_ds, subgraphed_public_test_ds, subgraphed_private_test_ds = load_subgraphed_datasets(neighbourhood_size=15) "
   ]
  },
  {
   "cell_type": "markdown",
   "metadata": {
    "colab_type": "text",
    "id": "4on25QKcoANA"
   },
   "source": [
    "# Model"
   ]
  },
  {
   "cell_type": "markdown",
   "metadata": {},
   "source": [
    "### Definition"
   ]
  },
  {
   "cell_type": "code",
   "execution_count": 25,
   "metadata": {},
   "outputs": [],
   "source": [
    "def create_model_for_subgraphed_dataset(neighbourhood_size, stacked_features_size, edges_features_matrix_depth, units):\n",
    "    base_inputs = Input(shape = (None, neighbourhood_size, stacked_features_size), name='stacked_base_features')\n",
    "    adjacency_matrix_inputs = Input(shape=(neighbourhood_size, None, None), name='adjacency_matrix')\n",
    "    edges_features_matrix_inputs = Input(shape=(neighbourhood_size, None, None, edges_features_matrix_depth), name='edges_features_matrix')\n",
    "\n",
    "    inputs = (base_inputs, adjacency_matrix_inputs, edges_features_matrix_inputs)\n",
    "\n",
    "    x = Bidirectional(RNN(LSTMGraphReduceCell(units), return_sequences=True))(inputs)\n",
    "    \n",
    "    x = TimeDistributed(Dense(512, activation='relu'))(x)\n",
    "    x = TimeDistributed(Dense(512, activation='relu'))(x)\n",
    "\n",
    "    reactivity_pred = TimeDistributed(Dense(1), name='reactivity')(x)\n",
    "    deg_Mg_pH10_pred = TimeDistributed(Dense(1), name='deg_Mg_pH10')(x)\n",
    "    deg_Mg_50C_pred = TimeDistributed(Dense(1), name='deg_Mg_50C')(x)\n",
    "\n",
    "    scored_outputs = [reactivity_pred, deg_Mg_pH10_pred, deg_Mg_50C_pred]\n",
    "    stacked_scored_outputs = Concatenate(axis=2, name='stacked_outputs')(scored_outputs)\n",
    "    outputs = {'stacked_scored_labels': stacked_scored_outputs}\n",
    "\n",
    "    model = Model(inputs=inputs, outputs=outputs)\n",
    "    \n",
    "    return model"
   ]
  },
  {
   "cell_type": "markdown",
   "metadata": {},
   "source": [
    "Submissions are scored using MCRMSE (mean columnwise root mean squared error):\n",
    "$\\textrm{MCRMSE} = \\frac{1}{N_{t}}\\sum_{j=1}^{N_{t}}\\sqrt{\\frac{1}{n} \\sum_{i=1}^{n} (y_{ij} - \\hat{y}_{ij})^2}$"
   ]
  },
  {
   "cell_type": "code",
   "execution_count": 26,
   "metadata": {
    "colab": {},
    "colab_type": "code",
    "id": "l5vdAIA3Davf"
   },
   "outputs": [],
   "source": [
    "def mcrmse(y_true, y_pred):\n",
    "    rmse = tf.sqrt(tf.reduce_mean(tf.square(y_true - y_pred), axis=1))\n",
    "    return tf.reduce_mean(rmse, axis=1)"
   ]
  },
  {
   "cell_type": "markdown",
   "metadata": {},
   "source": [
    "### Instantiation"
   ]
  },
  {
   "cell_type": "code",
   "execution_count": 27,
   "metadata": {},
   "outputs": [],
   "source": [
    "UNITS = 128\n",
    "\n",
    "model = create_model_for_subgraphed_dataset(NEIGHBOURHOOD_SIZE, STACKED_FEATURES_SIZE, EDGES_FEATURES_MATRIX_DEPTH, UNITS)\n",
    "\n",
    "log_dir = os.path.join(os.getcwd(), 'logs')\n",
    "model_name = datetime.now().strftime('model_%Y_%m_%d__%H_%M_%S')\n",
    "model_log_dir = os.path.join(log_dir, model_name)\n",
    "tensorboard_callback = tf.keras.callbacks.TensorBoard(log_dir=model_log_dir, histogram_freq=0, update_freq='epoch')\n",
    "\n",
    "model.compile(loss=mcrmse,\n",
    "#               optimizer=tf.keras.optimizers.SGD(0.01, momentum=0.9),\n",
    "              optimizer='adam')"
   ]
  },
  {
   "cell_type": "markdown",
   "metadata": {
    "colab": {},
    "colab_type": "code",
    "id": "aGKa7j6LDZxr"
   },
   "source": [
    "### Inspection"
   ]
  },
  {
   "cell_type": "code",
   "execution_count": 28,
   "metadata": {},
   "outputs": [
    {
     "data": {
      "image/png": "[encoded data removed]",
      "text/plain": [
       "<IPython.core.display.Image object>"
      ]
     },
     "execution_count": 28,
     "metadata": {},
     "output_type": "execute_result"
    }
   ],
   "source": [
    "tf.keras.utils.plot_model(model, show_shapes=True)"
   ]
  },
  {
   "cell_type": "code",
   "execution_count": 29,
   "metadata": {},
   "outputs": [
    {
     "name": "stdout",
     "output_type": "stream",
     "text": [
      "Model: \"functional_3\"\n",
      "__________________________________________________________________________________________________\n",
      "Layer (type)                    Output Shape         Param #     Connected to                     \n",
      "==================================================================================================\n",
      "stacked_base_features (InputLay [(None, None, 15, 14 0                                            \n",
      "__________________________________________________________________________________________________\n",
      "adjacency_matrix (InputLayer)   [(None, 15, None, No 0                                            \n",
      "__________________________________________________________________________________________________\n",
      "edges_features_matrix (InputLay [(None, 15, None, No 0                                            \n",
      "__________________________________________________________________________________________________\n",
      "bidirectional_1 (Bidirectional) (None, None, 256)    333568      stacked_base_features[0][0]      \n",
      "                                                                 adjacency_matrix[0][0]           \n",
      "                                                                 edges_features_matrix[0][0]      \n",
      "__________________________________________________________________________________________________\n",
      "time_distributed (TimeDistribut (None, None, 512)    131584      bidirectional_1[0][0]            \n",
      "__________________________________________________________________________________________________\n",
      "time_distributed_1 (TimeDistrib (None, None, 512)    262656      time_distributed[0][0]           \n",
      "__________________________________________________________________________________________________\n",
      "reactivity (TimeDistributed)    (None, None, 1)      513         time_distributed_1[0][0]         \n",
      "__________________________________________________________________________________________________\n",
      "deg_Mg_pH10 (TimeDistributed)   (None, None, 1)      513         time_distributed_1[0][0]         \n",
      "__________________________________________________________________________________________________\n",
      "deg_Mg_50C (TimeDistributed)    (None, None, 1)      513         time_distributed_1[0][0]         \n",
      "__________________________________________________________________________________________________\n",
      "stacked_outputs (Concatenate)   (None, None, 3)      0           reactivity[0][0]                 \n",
      "                                                                 deg_Mg_pH10[0][0]                \n",
      "                                                                 deg_Mg_50C[0][0]                 \n",
      "==================================================================================================\n",
      "Total params: 729,347\n",
      "Trainable params: 729,347\n",
      "Non-trainable params: 0\n",
      "__________________________________________________________________________________________________\n"
     ]
    }
   ],
   "source": [
    "model.summary()"
   ]
  },
  {
   "cell_type": "markdown",
   "metadata": {},
   "source": [
    "model.evaluate(subgraphed_valid_ds.batch(64))# Additional dataset preparations"
   ]
  },
  {
   "cell_type": "code",
   "execution_count": 13,
   "metadata": {},
   "outputs": [],
   "source": [
    "subgraphed_train_ds, subgraphed_valid_ds = split_into_train_and_valid(subgraphed_train_valid_ds, split_factor=0.3)"
   ]
  },
  {
   "cell_type": "markdown",
   "metadata": {},
   "source": [
    "### Baseline training and testing models evaluation"
   ]
  },
  {
   "cell_type": "code",
   "execution_count": 30,
   "metadata": {},
   "outputs": [
    {
     "name": "stderr",
     "output_type": "stream",
     "text": [
      "/home/jan/.local/share/virtualenvs/covid-EPTM6kfD/lib/python3.7/site-packages/tensorflow/python/keras/engine/functional.py:543: UserWarning: Input dict contained keys ['sequence', 'structure', 'predicted_loop_type', 'seq_scored'] which did not match any model input. They will be ignored by the model.\n",
      "  [n for n in tensors.keys() if n not in ref_input_names])\n"
     ]
    },
    {
     "name": "stdout",
     "output_type": "stream",
     "text": [
      "12/12 [==============================] - 1s 84ms/step - loss: 0.6961\n"
     ]
    },
    {
     "data": {
      "text/plain": [
       "0.6961318254470825"
      ]
     },
     "execution_count": 30,
     "metadata": {},
     "output_type": "execute_result"
    }
   ],
   "source": [
    "model.evaluate(subgraphed_valid_ds.batch(64))"
   ]
  },
  {
   "cell_type": "markdown",
   "metadata": {},
   "source": [
    "# Model training"
   ]
  },
  {
   "cell_type": "code",
   "execution_count": 21,
   "metadata": {},
   "outputs": [
    {
     "data": {
      "text/plain": [
       "Reusing TensorBoard on port 6006 (pid 14983), started 0:29:58 ago. (Use '!kill 14983' to kill it.)"
      ]
     },
     "metadata": {},
     "output_type": "display_data"
    },
    {
     "data": {
      "text/html": [
       "\n",
       "      <iframe id=\"tensorboard-frame-e98c9475afa250e3\" width=\"100%\" height=\"800\" frameborder=\"0\">\n",
       "      </iframe>\n",
       "      <script>\n",
       "        (function() {\n",
       "          const frame = document.getElementById(\"tensorboard-frame-e98c9475afa250e3\");\n",
       "          const url = new URL(\"/\", window.location);\n",
       "          const port = 6006;\n",
       "          if (port) {\n",
       "            url.port = port;\n",
       "          }\n",
       "          frame.src = url;\n",
       "        })();\n",
       "      </script>\n",
       "    "
      ],
      "text/plain": [
       "<IPython.core.display.HTML object>"
      ]
     },
     "metadata": {},
     "output_type": "display_data"
    }
   ],
   "source": [
    "%tensorboard --logdir $log_dir"
   ]
  },
  {
   "cell_type": "code",
   "execution_count": 31,
   "metadata": {
    "colab": {
     "base_uri": "https://localhost:8080/",
     "height": 581
    },
    "colab_type": "code",
    "id": "NV4yKXcjLxdB",
    "outputId": "ae59b2ee-35b9-43a2-b3e4-934cf6e85ba8"
   },
   "outputs": [
    {
     "name": "stdout",
     "output_type": "stream",
     "text": [
      "Epoch 1/20\n",
      " 2/53 [>.............................] - ETA: 46s - loss: 0.6823WARNING:tensorflow:Callbacks method `on_train_batch_end` is slow compared to the batch time (batch time: 0.5941s vs `on_train_batch_end` time: 1.2372s). Check your callbacks.\n",
      "53/53 [==============================] - 25s 468ms/step - loss: 0.5347 - val_loss: 0.5181\n",
      "Epoch 2/20\n",
      "53/53 [==============================] - 24s 443ms/step - loss: 0.4928 - val_loss: 0.4436\n",
      "Epoch 3/20\n",
      "53/53 [==============================] - 28s 525ms/step - loss: 0.4995 - val_loss: 0.4920\n",
      "Epoch 4/20\n",
      "53/53 [==============================] - 39s 731ms/step - loss: 0.4906 - val_loss: 0.4817\n",
      "Epoch 5/20\n",
      "53/53 [==============================] - 41s 782ms/step - loss: 0.4835 - val_loss: 0.4585\n",
      "Epoch 6/20\n",
      "53/53 [==============================] - 24s 445ms/step - loss: 0.4737 - val_loss: 0.4509\n",
      "Epoch 7/20\n",
      "53/53 [==============================] - 24s 459ms/step - loss: 0.4762 - val_loss: 0.4574\n",
      "Epoch 8/20\n",
      "53/53 [==============================] - 24s 444ms/step - loss: 0.4754 - val_loss: 0.4663\n",
      "Epoch 9/20\n",
      "53/53 [==============================] - 24s 456ms/step - loss: 0.4697 - val_loss: 0.4486\n",
      "Epoch 10/20\n",
      "53/53 [==============================] - 27s 515ms/step - loss: 0.4662 - val_loss: 0.4252\n",
      "Epoch 11/20\n",
      "53/53 [==============================] - 24s 448ms/step - loss: 0.4649 - val_loss: 0.4428\n",
      "Epoch 12/20\n",
      "53/53 [==============================] - 24s 445ms/step - loss: 0.4574 - val_loss: 0.4465\n",
      "Epoch 13/20\n",
      "53/53 [==============================] - 24s 454ms/step - loss: 0.4497 - val_loss: 0.4707\n",
      "Epoch 14/20\n",
      "53/53 [==============================] - 71s 1s/step - loss: 0.4522 - val_loss: 0.4418\n",
      "Epoch 15/20\n",
      "53/53 [==============================] - 23s 439ms/step - loss: 0.4488 - val_loss: 0.4084\n",
      "Epoch 16/20\n",
      "53/53 [==============================] - 24s 447ms/step - loss: 0.4309 - val_loss: 0.4118\n",
      "Epoch 17/20\n",
      "53/53 [==============================] - 24s 454ms/step - loss: 0.4371 - val_loss: 0.4431\n",
      "Epoch 18/20\n",
      "53/53 [==============================] - 32s 602ms/step - loss: 0.4377 - val_loss: 0.4256\n",
      "Epoch 19/20\n",
      "53/53 [==============================] - 71s 1s/step - loss: 0.4398 - val_loss: 0.4342\n",
      "Epoch 20/20\n",
      "53/53 [==============================] - 32s 607ms/step - loss: 0.4495 - val_loss: 0.4276\n"
     ]
    }
   ],
   "source": [
    "history = model.fit(subgraphed_train_ds.batch(32),\n",
    "                    validation_data=subgraphed_valid_ds.batch(4096),\n",
    "                    epochs=20,\n",
    "                    initial_epoch=0,\n",
    "                    verbose=1,\n",
    "                    shuffle=True,\n",
    "                    callbacks=[tensorboard_callback])"
   ]
  },
  {
   "cell_type": "markdown",
   "metadata": {},
   "source": [
    "# Create submission"
   ]
  },
  {
   "cell_type": "code",
   "execution_count": 19,
   "metadata": {},
   "outputs": [
    {
     "name": "stdout",
     "output_type": "stream",
     "text": [
      "CPU times: user 16.9 s, sys: 3.4 s, total: 20.3 s\n",
      "Wall time: 21.4 s\n"
     ]
    },
    {
     "data": {
      "text/html": [
       "<div>\n",
       "<style scoped>\n",
       "    .dataframe tbody tr th:only-of-type {\n",
       "        vertical-align: middle;\n",
       "    }\n",
       "\n",
       "    .dataframe tbody tr th {\n",
       "        vertical-align: top;\n",
       "    }\n",
       "\n",
       "    .dataframe thead th {\n",
       "        text-align: right;\n",
       "    }\n",
       "</style>\n",
       "<table border=\"1\" class=\"dataframe\">\n",
       "  <thead>\n",
       "    <tr style=\"text-align: right;\">\n",
       "      <th></th>\n",
       "      <th>id_seqpos</th>\n",
       "      <th>reactivity</th>\n",
       "      <th>deg_Mg_pH10</th>\n",
       "      <th>deg_pH10</th>\n",
       "      <th>deg_Mg_50C</th>\n",
       "      <th>deg_50C</th>\n",
       "    </tr>\n",
       "  </thead>\n",
       "  <tbody>\n",
       "    <tr>\n",
       "      <th>0</th>\n",
       "      <td>id_00073f8be_0</td>\n",
       "      <td>0.771534</td>\n",
       "      <td>0.635922</td>\n",
       "      <td>0.0</td>\n",
       "      <td>0.575593</td>\n",
       "      <td>0.0</td>\n",
       "    </tr>\n",
       "    <tr>\n",
       "      <th>1</th>\n",
       "      <td>id_00073f8be_1</td>\n",
       "      <td>2.010299</td>\n",
       "      <td>2.734027</td>\n",
       "      <td>0.0</td>\n",
       "      <td>2.577443</td>\n",
       "      <td>0.0</td>\n",
       "    </tr>\n",
       "    <tr>\n",
       "      <th>2</th>\n",
       "      <td>id_00073f8be_2</td>\n",
       "      <td>1.471142</td>\n",
       "      <td>0.970980</td>\n",
       "      <td>0.0</td>\n",
       "      <td>1.248969</td>\n",
       "      <td>0.0</td>\n",
       "    </tr>\n",
       "    <tr>\n",
       "      <th>3</th>\n",
       "      <td>id_00073f8be_3</td>\n",
       "      <td>1.195657</td>\n",
       "      <td>0.890279</td>\n",
       "      <td>0.0</td>\n",
       "      <td>1.083097</td>\n",
       "      <td>0.0</td>\n",
       "    </tr>\n",
       "    <tr>\n",
       "      <th>4</th>\n",
       "      <td>id_00073f8be_4</td>\n",
       "      <td>1.021735</td>\n",
       "      <td>1.172535</td>\n",
       "      <td>0.0</td>\n",
       "      <td>1.181870</td>\n",
       "      <td>0.0</td>\n",
       "    </tr>\n",
       "    <tr>\n",
       "      <th>...</th>\n",
       "      <td>...</td>\n",
       "      <td>...</td>\n",
       "      <td>...</td>\n",
       "      <td>...</td>\n",
       "      <td>...</td>\n",
       "      <td>...</td>\n",
       "    </tr>\n",
       "    <tr>\n",
       "      <th>316222</th>\n",
       "      <td>id_ffda94f24_86</td>\n",
       "      <td>0.359944</td>\n",
       "      <td>0.712434</td>\n",
       "      <td>0.0</td>\n",
       "      <td>0.565570</td>\n",
       "      <td>0.0</td>\n",
       "    </tr>\n",
       "    <tr>\n",
       "      <th>316223</th>\n",
       "      <td>id_ffda94f24_87</td>\n",
       "      <td>0.479216</td>\n",
       "      <td>0.827146</td>\n",
       "      <td>0.0</td>\n",
       "      <td>0.686131</td>\n",
       "      <td>0.0</td>\n",
       "    </tr>\n",
       "    <tr>\n",
       "      <th>316224</th>\n",
       "      <td>id_ffda94f24_88</td>\n",
       "      <td>0.603683</td>\n",
       "      <td>0.857467</td>\n",
       "      <td>0.0</td>\n",
       "      <td>0.787335</td>\n",
       "      <td>0.0</td>\n",
       "    </tr>\n",
       "    <tr>\n",
       "      <th>316225</th>\n",
       "      <td>id_ffda94f24_89</td>\n",
       "      <td>0.587248</td>\n",
       "      <td>0.801542</td>\n",
       "      <td>0.0</td>\n",
       "      <td>0.751943</td>\n",
       "      <td>0.0</td>\n",
       "    </tr>\n",
       "    <tr>\n",
       "      <th>316226</th>\n",
       "      <td>id_ffda94f24_90</td>\n",
       "      <td>0.450953</td>\n",
       "      <td>0.721345</td>\n",
       "      <td>0.0</td>\n",
       "      <td>0.641889</td>\n",
       "      <td>0.0</td>\n",
       "    </tr>\n",
       "  </tbody>\n",
       "</table>\n",
       "<p>316227 rows × 6 columns</p>\n",
       "</div>"
      ],
      "text/plain": [
       "              id_seqpos  reactivity  deg_Mg_pH10  deg_pH10  deg_Mg_50C  \\\n",
       "0        id_00073f8be_0    0.771534     0.635922       0.0    0.575593   \n",
       "1        id_00073f8be_1    2.010299     2.734027       0.0    2.577443   \n",
       "2        id_00073f8be_2    1.471142     0.970980       0.0    1.248969   \n",
       "3        id_00073f8be_3    1.195657     0.890279       0.0    1.083097   \n",
       "4        id_00073f8be_4    1.021735     1.172535       0.0    1.181870   \n",
       "...                 ...         ...          ...       ...         ...   \n",
       "316222  id_ffda94f24_86    0.359944     0.712434       0.0    0.565570   \n",
       "316223  id_ffda94f24_87    0.479216     0.827146       0.0    0.686131   \n",
       "316224  id_ffda94f24_88    0.603683     0.857467       0.0    0.787335   \n",
       "316225  id_ffda94f24_89    0.587248     0.801542       0.0    0.751943   \n",
       "316226  id_ffda94f24_90    0.450953     0.721345       0.0    0.641889   \n",
       "\n",
       "        deg_50C  \n",
       "0           0.0  \n",
       "1           0.0  \n",
       "2           0.0  \n",
       "3           0.0  \n",
       "4           0.0  \n",
       "...         ...  \n",
       "316222      0.0  \n",
       "316223      0.0  \n",
       "316224      0.0  \n",
       "316225      0.0  \n",
       "316226      0.0  \n",
       "\n",
       "[316227 rows x 6 columns]"
      ]
     },
     "execution_count": 19,
     "metadata": {},
     "output_type": "execute_result"
    }
   ],
   "source": [
    "%time submission = create_submission(model, [subgraphed_public_test_ds, subgraphed_private_test_ds], [raw_public_test_ds, raw_private_test_ds])\n",
    "submission"
   ]
  },
  {
   "cell_type": "code",
   "execution_count": 20,
   "metadata": {},
   "outputs": [],
   "source": [
    "submission_name = 'submission.csv'\n",
    "submissions_dir = os.path.join(os.getcwd(), 'submissions')\n",
    "submission_path = os.path.join(submissions_dir, submission_name)\n",
    "submission.to_csv(submission_path, header=True, index=False)"
   ]
  },
  {
   "cell_type": "markdown",
   "metadata": {},
   "source": [
    "# Model saving and loading"
   ]
  },
  {
   "cell_type": "code",
   "execution_count": 32,
   "metadata": {},
   "outputs": [],
   "source": [
    "model_file_name = 'model'\n",
    "models_path = os.path.join(os.getcwd(), 'models')\n",
    "model_path = os.path.join(models_path, model_file_name)"
   ]
  },
  {
   "cell_type": "code",
   "execution_count": 18,
   "metadata": {},
   "outputs": [],
   "source": [
    "loaded_model = tf.keras.models.load_model(model_path, custom_objects={'mcrmse': mcrmse, 'LSTMGraphReduceCell': LSTMGraphReduceCell})"
   ]
  },
  {
   "cell_type": "code",
   "execution_count": 24,
   "metadata": {},
   "outputs": [],
   "source": [
    "# loaded_model.evaluate(subgraphed_valid_ds.batch(4096))"
   ]
  },
  {
   "cell_type": "code",
   "execution_count": 22,
   "metadata": {},
   "outputs": [],
   "source": [
    "# model = loaded_model"
   ]
  },
  {
   "cell_type": "code",
   "execution_count": 33,
   "metadata": {},
   "outputs": [
    {
     "name": "stdout",
     "output_type": "stream",
     "text": [
      "WARNING:tensorflow:From /home/jan/.local/share/virtualenvs/covid-EPTM6kfD/lib/python3.7/site-packages/tensorflow/python/training/tracking/tracking.py:111: Model.state_updates (from tensorflow.python.keras.engine.training) is deprecated and will be removed in a future version.\n",
      "Instructions for updating:\n",
      "This property should not be used in TensorFlow 2.0, as updates are applied automatically.\n",
      "WARNING:tensorflow:From /home/jan/.local/share/virtualenvs/covid-EPTM6kfD/lib/python3.7/site-packages/tensorflow/python/training/tracking/tracking.py:111: Layer.updates (from tensorflow.python.keras.engine.base_layer) is deprecated and will be removed in a future version.\n",
      "Instructions for updating:\n",
      "This property should not be used in TensorFlow 2.0, as updates are applied automatically.\n",
      "INFO:tensorflow:Assets written to: /home/jan/kaggle_competitions/covid/models/model/assets\n"
     ]
    }
   ],
   "source": [
    "model.save(model_path)"
   ]
  },
  {
   "cell_type": "markdown",
   "metadata": {},
   "source": [
    "TODO:\n",
    "* cross-validation - more data to train\n",
    "* signal_to_noise parameter - maybe it can be used in some way\n",
    "* unsupervised pretraining"
   ]
  }
 ],
 "metadata": {
  "colab": {
   "collapsed_sections": [],
   "name": "Covid.ipynb",
   "provenance": [],
   "toc_visible": true
  },
  "kernelspec": {
   "display_name": "Python 3",
   "language": "python",
   "name": "python3"
  },
  "language_info": {
   "codemirror_mode": {
    "name": "ipython",
    "version": 3
   },
   "file_extension": ".py",
   "mimetype": "text/x-python",
   "name": "python",
   "nbconvert_exporter": "python",
   "pygments_lexer": "ipython3",
   "version": "3.7.5"
  }
 },
 "nbformat": 4,
 "nbformat_minor": 4
}